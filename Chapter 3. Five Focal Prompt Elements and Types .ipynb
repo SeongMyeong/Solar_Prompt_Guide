{
 "cells": [
  {
   "cell_type": "markdown",
   "metadata": {},
   "source": [
    "# **Chapter 3. Five Focal Prompt Elements and Types**"
   ]
  },
  {
   "cell_type": "markdown",
   "metadata": {},
   "source": [
    "In this chapter, we are going to look over the five focal elements of a well-constructed prompt and the different types of prompts that utilize these elements: `Instruction, Context, Example, Input Data, Output.`  \n",
    "\n",
    "These elements form the foundation of effective communication with Solar, ensuring the responses generated are aligned with your desired outcomes."
   ]
  },
  {
   "cell_type": "markdown",
   "metadata": {},
   "source": [
    "**Set up**"
   ]
  },
  {
   "cell_type": "code",
   "execution_count": 1,
   "metadata": {},
   "outputs": [],
   "source": [
    "from openai import OpenAI\n",
    "\n",
    "# Retrieve the UPSTAGE_API_KEY variable from the IPython store\n",
    "%store -r UPSTAGE_API_KEY\n",
    "\n",
    "client = OpenAI(\n",
    "    api_key= UPSTAGE_API_KEY,\n",
    "    base_url=\"https://api.upstage.ai/v1/solar\"\n",
    ")\n",
    "\n",
    "config_model = {\n",
    "    \"model\": \"solar-pro\",\n",
    "    \"max_tokens\": 2000,\n",
    "    \"temperature\": 0.7,\n",
    "    \"top_p\": 0.9,\n",
    "}\n",
    "\n",
    "def get_completion(messages, system_prompt=\"\", config=config_model):\n",
    "    try:\n",
    "        if system_prompt:\n",
    "            messages = [{\"role\": \"system\", \"content\": system_prompt}] + messages\n",
    "\n",
    "        message = client.chat.completions.create(messages=messages, **config)\n",
    "        return message.choices[0].message.content\n",
    "    \n",
    "    except Exception as e:\n",
    "        print(f\"Error during API call: {e}\")\n",
    "        return None"
   ]
  },
  {
   "cell_type": "markdown",
   "metadata": {},
   "source": [
    "---"
   ]
  },
  {
   "cell_type": "markdown",
   "metadata": {},
   "source": [
    "## **3.1 Focal Elements**"
   ]
  },
  {
   "cell_type": "markdown",
   "metadata": {},
   "source": [
    "- **`Instruction`**\n",
    "    - The instruction is the core component of a prompt that directs the model on what task to perform. A good instruction should be explicit, concise, and goal-oriented.\n",
    "\n",
    "- **`Context`**\n",
    "    - Context provides background information or framing that helps the model generate a more relevant response. It could include past interactions, user-specific information, or task-related details.\n",
    "\n",
    "- **`Example`**\n",
    "    - Examples are useful ways for guiding the model's response style and format. Providing one or more examples can help the model understand what is expected in terms of tone, content, or output structure. (The use of examples in prompts is fully addressed in Chapter 4.)\n",
    "\n",
    "- **`Input Data`**\n",
    "    - Input data refers to the specific content that the model should work on, whether it is a text passage, numerical data, or any other type of input. This element allows the model to generate a detailed response based on the provided content.\n",
    "    \n",
    "- **`Output`**\n",
    "    - The output element specifies what the response should look like, such as its structure, tone, or length. Clearly defining the desired output can help the model align its response to meet your expectations. (Controlling and modifying the final output is covered in detail in Chapter 5.)\n",
    "\n",
    "    Combining these five focal elements in different ways creates various types of prompts. Below are four prompt **types A to D**: \n",
    "\n",
    "    - `Type A`: Instruction + Output\n",
    "\n",
    "    - `Type B`: Instruction + Context + Output\n",
    "\n",
    "    - `Type C`: Instruction + Context + Example + Output\n",
    "    \n",
    "    - `Type D`: Instruction + Input Data + Output \n",
    "\n",
    "\n",
    "    **Througout all chpaters, prompt types A to D are utilized.** \n",
    "\n"
   ]
  },
  {
   "cell_type": "markdown",
   "metadata": {},
   "source": [
    "**Benefits of Using These Types for Prompt Crafting** \n",
    "\n",
    "There are several benefits to using these types for prompt crafting:\n",
    "\n",
    "1. **Finding the Best Combination for Each Task**\n",
    "\n",
    "    - Every task requires a different type of prompt structure. By testing these types, you can find the best combination that works effectively for each task.\n",
    "\n",
    "2. **Ease of Testing Prompt Optimization**\n",
    "\n",
    "    - These types make it easier to test and optimize prompts, allowing you to refine and improve the model's responses efficiently."
   ]
  },
  {
   "cell_type": "markdown",
   "metadata": {},
   "source": [
    "---"
   ]
  },
  {
   "cell_type": "markdown",
   "metadata": {},
   "source": [
    "## **3.2 Examples**"
   ]
  },
  {
   "cell_type": "markdown",
   "metadata": {},
   "source": [
    "**Type A: Instruction + Output**"
   ]
  },
  {
   "cell_type": "code",
   "execution_count": 2,
   "metadata": {},
   "outputs": [],
   "source": [
    "# Instruction Only\n",
    "message = [\n",
    "    {\n",
    "        \"role\": \"user\",\n",
    "        \"content\": \"Write a short summary of the main events of the Industrial and Technological Revolution.\"\n",
    "    }\n",
    "]\n",
    "\n",
    "response = get_completion(messages=message)"
   ]
  },
  {
   "cell_type": "code",
   "execution_count": 3,
   "metadata": {},
   "outputs": [
    {
     "name": "stdout",
     "output_type": "stream",
     "text": [
      "The Industrial Revolution, which began in the late 18th century, marked a shift from agrarian societies to industrialized ones, primarily in Britain. Key developments included the invention of the steam engine, the mechanization of textile production, and the expansion of the factory system. The Technological Revolution, also known as the Digital Revolution, started in the mid-20th century and continues today. It's characterized by the rapid advancement of digital technology, including the creation of computers, the internet, and mobile devices, leading to significant changes in communication, transportation, and information access.\n"
     ]
    }
   ],
   "source": [
    "# Output\n",
    "print(response)"
   ]
  },
  {
   "cell_type": "markdown",
   "metadata": {},
   "source": []
  },
  {
   "cell_type": "markdown",
   "metadata": {},
   "source": [
    "**Type B: Instruction + Context + Output**"
   ]
  },
  {
   "cell_type": "code",
   "execution_count": 4,
   "metadata": {},
   "outputs": [],
   "source": [
    "# Instruction + Context\n",
    "Instruction = \"Write a short summary of the main events of the Industrial and Technological Revolution\"\n",
    "Context = \" in a way that engages high school students, as if presented by a professional history teacher.\"\n",
    "\n",
    "message = [\n",
    "    {\n",
    "        \"role\": \"user\",\n",
    "        \"content\": Instruction + Context\n",
    "    }\n",
    "]\n",
    "\n",
    "response = get_completion(messages=message)"
   ]
  },
  {
   "cell_type": "code",
   "execution_count": 5,
   "metadata": {},
   "outputs": [
    {
     "name": "stdout",
     "output_type": "stream",
     "text": [
      "Alright, class, gather 'round for an epic tale of innovation and transformation - the Industrial and Technological Revolutions! Picture this: it's the late 1700s, and the world is about to change forever. \n",
      "\n",
      "First up, the Industrial Revolution, which kicked off in Britain. Factories sprang up like mushrooms, powered by steam engines and fueled by coal. This led to mass production, making goods cheaper and more accessible. But it wasn't all sunshine and rainbows; urbanization caused overcrowding, and working conditions were often harsh. \n",
      "\n",
      "Now, let's fast-forward to the mid-1800s, when the Technological Revolution began. This time, it was all about communication and transportation. The telegraph and telephone shrunk the world, while railroads and steamships made travel and trade faster than ever. \n",
      "\n",
      "Then, in the late 1800s, electricity arrived, lighting up cities and powering new inventions. The 20th century brought even more marvels: cars, airplanes, radios, televisions, and computers! \n",
      "\n",
      "These revolutions reshaped society, creating new jobs, boosting economies, and connecting people across the globe. But they also raised questions about ethics, sustainability, and the impact of technology on our lives - questions we're still grappling with today. So, let's dive deeper and explore this fascinating journey of human progress!\n"
     ]
    }
   ],
   "source": [
    "# Output\n",
    "print(response)"
   ]
  },
  {
   "cell_type": "markdown",
   "metadata": {},
   "source": []
  },
  {
   "cell_type": "markdown",
   "metadata": {},
   "source": [
    "**Type C: Instruction + Context + Example + Output**"
   ]
  },
  {
   "cell_type": "code",
   "execution_count": 8,
   "metadata": {},
   "outputs": [],
   "source": [
    "# Instruction + Context + Example\n",
    "Instruction = \"Write a short summary of the main events of the Industrial and Technological Revolution\"\n",
    "Context = \" in a way that engages high school students, as if presented by a professional history teacher.\"\n",
    "Example = \" For example, imagine walking through a bustling 19th-century factory, where the sounds of machines hum like a symphony, and the air is filled with the excitement of innovation. In this era, the steam engine transformed transportation, factories replaced handcrafting, and groundbreaking inventions like the telegraph revolutionized communication. Put quotation marks “ ” when giving an example.\"\n",
    "\n",
    "message = [\n",
    "    {\n",
    "        \"role\": \"user\",\n",
    "        \"content\": Instruction + Context + Example\n",
    "    }\n",
    "]\n",
    "\n",
    "response = get_completion(messages=message)"
   ]
  },
  {
   "cell_type": "code",
   "execution_count": 9,
   "metadata": {},
   "outputs": [
    {
     "name": "stdout",
     "output_type": "stream",
     "text": [
      "Ladies and gentlemen, let's embark on a thrilling journey through time to the heart of the Industrial and Technological Revolution! Picture yourself in the midst of the 19th century, where the world is rapidly transforming before your eyes. \n",
      "\n",
      "Imagine walking through a bustling factory, where \"the sounds of machines hum like a symphony,\" and the air is charged with the electricity of innovation. This is the era of the steam engine, a groundbreaking invention that revolutionized transportation. Trains, once powered by horses, now race across vast distances at unprecedented speeds, connecting cities and countries like never before.\n",
      "\n",
      "But the revolution doesn't stop there! Factories, equipped with these powerful machines, replace handcrafting, forever changing the way we produce goods. Mass production becomes the norm, leading to lower prices and increased availability of products, from textiles to tools.\n",
      "\n",
      "Now, let's delve into the realm of communication. Behold the telegraph, a marvel of the time! With this invention, messages can be transmitted over long distances in mere moments, shrinking the world and accelerating the pace of information exchange. \n",
      "\n",
      "This era is also marked by countless other inventions that have shaped our modern world. From the light bulb, which illuminates our nights, to the telephone, which connects us with loved ones across great distances, the Industrial and Technological Revolution is a testament to human ingenuity and progress.\n",
      "\n",
      "So, as we journey back to the present, remember the excitement and transformative power of this remarkable period in history. Who knows what revolutions await us in the future?\n"
     ]
    }
   ],
   "source": [
    "# Output\n",
    "print(response)"
   ]
  },
  {
   "cell_type": "markdown",
   "metadata": {},
   "source": [
    "**Type D: Instruction + Input Data + Output**"
   ]
  },
  {
   "cell_type": "code",
   "execution_count": 10,
   "metadata": {},
   "outputs": [],
   "source": [
    "# Input Data: Second Industrial Revolution\n",
    "\n",
    "Input_Data = \"\"\"\n",
    "The Second Industrial Revolution, also known as the Technological Revolution, was a phase of rapid scientific discovery, standardisation, mass production and industrialisation from the late 19th century into the early 20th century. The First Industrial Revolution, which ended in the middle of the 19th century, was punctuated by a slowdown in important inventions before the Second Industrial Revolution in 1870. Though a number of its events can be traced to earlier innovations in manufacturing, such as the establishment of a machine tool industry, the development of methods for manufacturing interchangeable parts, as well as the invention of the Bessemer process and open hearth furnace to produce steel, later developments heralded the Second Industrial Revolution, which is generally dated between 1870 and 1914 (the beginning of World War I).\n",
    "\n",
    "Advancements in manufacturing and production technology enabled the widespread adoption of technological systems such as telegraph and railroad networks, gas and water supply, and sewage systems, which had earlier been limited to a few select cities. The enormous expansion of rail and telegraph lines after 1870 allowed unprecedented movement of people and ideas, which culminated in a new wave of globalization. In the same time period, new technological systems were introduced, most significantly electrical power and telephones. The Second Industrial Revolution continued into the 20th century with early factory electrification and the production line; it ended at the beginning of World War I.\n",
    "\n",
    "Starting in 1947, the Information Age is sometimes also called the Third Industrial Revolution.\n",
    "\n",
    "\"\"\"\n",
    "\n",
    "# Reference: Wikipedia(https://en.wikipedia.org/wiki/Second_Industrial_Revolution)"
   ]
  },
  {
   "cell_type": "code",
   "execution_count": 11,
   "metadata": {},
   "outputs": [],
   "source": [
    "# Instruction + Input Data\n",
    "Instruction = \"Write a short summary of the main events of the Industrial and Technological Revolution based on [Input Data] below:\\n\"\n",
    "\n",
    "message = [\n",
    "    {\n",
    "        \"role\": \"user\",\n",
    "        \"content\": Instruction + Input_Data\n",
    "    }\n",
    "]\n",
    "\n",
    "response = get_completion(messages=message)"
   ]
  },
  {
   "cell_type": "code",
   "execution_count": 12,
   "metadata": {},
   "outputs": [
    {
     "name": "stdout",
     "output_type": "stream",
     "text": [
      "The Second Industrial Revolution, or Technological Revolution, occurred from the late 19th to early 20th century, following a slowdown in inventions after the First Industrial Revolution. Key developments included the establishment of a machine tool industry, manufacturing of interchangeable parts, and the invention of the Bessemer process and open hearth furnace for steel production. This revolution, dated between 1870 and 1914, brought advancements in manufacturing and production technology, leading to widespread adoption of telegraph and railroad networks, gas and water supply, and sewage systems. The expansion of rail and telegraph lines facilitated globalization. New technological systems like electrical power and telephones were introduced during this period. The revolution continued into the 20th century with factory electrification and the production line, ending at the start of World War I. The Information Age, starting in 1947, is sometimes referred to as the Third Industrial Revolution.\n"
     ]
    }
   ],
   "source": [
    "# Output\n",
    "print(response)"
   ]
  },
  {
   "cell_type": "markdown",
   "metadata": {},
   "source": [
    "---"
   ]
  },
  {
   "cell_type": "markdown",
   "metadata": {},
   "source": [
    "## **3.3 Practice**"
   ]
  },
  {
   "cell_type": "markdown",
   "metadata": {},
   "source": [
    "Let's practice!\n",
    "\n",
    "- `Type A`: Instruction + Output\n",
    "\n",
    "- `Type B`: Instruction + Context + Output\n",
    "\n",
    "- `Type C`: Instruction + Context + Example + Output\n",
    "\n",
    "- `Type D`: Instruction + Input Data + Output"
   ]
  },
  {
   "cell_type": "markdown",
   "metadata": {},
   "source": [
    "**Type A**: \n",
    "\n",
    "Please write a prompt type A that converts the following word to lowercase. \n",
    "\n",
    "[APPLE, BANANA, CHERRY]"
   ]
  },
  {
   "cell_type": "code",
   "execution_count": null,
   "metadata": {},
   "outputs": [],
   "source": [
    "# Type A\n",
    "message = [\n",
    "    {\n",
    "        \"role\": \"user\",\n",
    "        \"content\": \" \" # ←- Insert your prompt here.\n",
    "    }\n",
    "]\n",
    "\n",
    "response = get_completion(messages=message)\n",
    "print(response)"
   ]
  },
  {
   "cell_type": "markdown",
   "metadata": {},
   "source": []
  },
  {
   "cell_type": "markdown",
   "metadata": {},
   "source": [
    "**Type B:** \n",
    "\n",
    "Please write a prompt type B that extracts the three key points from the following article and summarizes them in bullet points."
   ]
  },
  {
   "cell_type": "markdown",
   "metadata": {},
   "source": [
    "- Article: \n",
    "\n",
    "    > A federal jury ruled Friday that Masimo smartwatches infringed Apple patents, but Apple isn’t getting a big payday.\n",
    "    >\n",
    "    > [Bloomberg Law reports](https://news.bloomberglaw.com/ip-law/apple-wins-250-in-mixed-jury-verdict-over-smartwatch-patents) that the company was only seeking the statutory minimum of $250, and that’s all it was awarded. Apple’s attorney John Desmarais reportedly told jurors, “We’re not here for the money.” Instead, he said the company hoped to force Masimo to “stop copying our design.”\n",
    "    > \n",
    "    > The company may have been disappointed on that front. The jury did [find](https://www.documentcloud.org/documents/25253303-apple-v-masimo-verdict) that the original design for Masimo’s W1 Freedom and health module, as well as its original charger, infringed on Apple design patents, and that the infringement was willful.\n",
    "    > \n",
    "    > However, in a statement, Masimo noted that the findings only applied to “a discontinued module and charger,” not its current products.\n",
    "    > \n",
    "    > “Apple primarily sought an injunction against Masimo’s current products, and the jury’s verdict is a victory for Masimo on that issue,” the medical device company said.\n",
    "    > \n",
    "    > The trial resulted from Apple’s countersuit in its ongoing legal battle with Masimo, which started with the Masimo’s claim that its patents had been infringed by the Apple Watch’s pulse-oximetry feature, which allows Watch owners to measure their blood oxygen levels. Apple disabled the feature in the Apple Watch Series 9 and Ultra 2, and it’s also missing from [the new Series 10](https://techcrunch.com/2024/09/10/apple-watch-blood-oxygen-detection-wont-be-available-on-the-series-10-in-the-u-s/). These limitations only apply in the United States, with Apple is appealing an import ban on models with the contested feature.\n",
    "    > \n",
    "    > Desmerais reportedly told the jury that the pulse-oximetry feature “has nothing to do with this case.”\n",
    "\n",
    "source: https://techcrunch.com/2024/10/26/apple-wins-250-from-masimo-in-watch-patent-trial/"
   ]
  },
  {
   "cell_type": "code",
   "execution_count": null,
   "metadata": {},
   "outputs": [],
   "source": [
    "# Type B\n",
    "message = [\n",
    "    {\n",
    "        \"role\": \"user\",\n",
    "        \"content\": \" \" # ←- Insert your prompt here.\n",
    "    }\n",
    "]\n",
    "\n",
    "response = get_completion(messages=message)\n",
    "print(response)"
   ]
  },
  {
   "cell_type": "markdown",
   "metadata": {},
   "source": []
  },
  {
   "cell_type": "markdown",
   "metadata": {},
   "source": [
    "**Type C**:\n",
    "\n",
    "Please provide a type C prompt to define \"gate lice\" in a dictionary-like manner. Include an example for clarity."
   ]
  },
  {
   "cell_type": "code",
   "execution_count": null,
   "metadata": {},
   "outputs": [],
   "source": [
    "# Type C\n",
    "message = [\n",
    "    {\n",
    "        \"role\": \"user\",\n",
    "        \"content\": \" \" # ←- Insert your prompt here.\n",
    "    }\n",
    "]\n",
    "\n",
    "response = get_completion(messages=message)\n",
    "print(response)"
   ]
  },
  {
   "cell_type": "markdown",
   "metadata": {},
   "source": []
  },
  {
   "cell_type": "markdown",
   "metadata": {},
   "source": [
    "**Type D**:\n",
    "\n",
    "Create a type D prompt that provides a detailed explanation of Art Deco using the following input values."
   ]
  },
  {
   "cell_type": "code",
   "execution_count": 42,
   "metadata": {},
   "outputs": [],
   "source": [
    "Input_data = \"Tamara de Lempicka’s 'Young Woman in Green,' painted between 1927 and 1930, is a defining work of the Art Deco star whose art has attracted a resurgence of interest in recent decades. Bertrand Prévost/Centre Pompidou/Orange Logic/RMP/2024 Tamara de Lempicka Estate, LLC/ADAGP, Paris/ARS, NY Digital image/CNAC/MNAM, Dist. RMN-Grand Palais/Art Resource, NY\" "
   ]
  },
  {
   "cell_type": "code",
   "execution_count": null,
   "metadata": {},
   "outputs": [],
   "source": [
    "# Type D\n",
    "message = [\n",
    "    {\n",
    "        \"role\": \"user\",\n",
    "        \"content\": \" \" # ←- Insert your prompt here.\n",
    "    }\n",
    "]\n",
    "\n",
    "response = get_completion(messages=message)\n",
    "print(response)"
   ]
  },
  {
   "cell_type": "markdown",
   "metadata": {},
   "source": []
  }
 ],
 "metadata": {
  "kernelspec": {
   "display_name": "base",
   "language": "python",
   "name": "python3"
  },
  "language_info": {
   "codemirror_mode": {
    "name": "ipython",
    "version": 3
   },
   "file_extension": ".py",
   "mimetype": "text/x-python",
   "name": "python",
   "nbconvert_exporter": "python",
   "pygments_lexer": "ipython3",
   "version": "3.12.4"
  }
 },
 "nbformat": 4,
 "nbformat_minor": 2
}
