{
 "cells": [
  {
   "cell_type": "markdown",
   "metadata": {},
   "source": [
    "# **Chapter 5. Role and Style Prompting**"
   ]
  },
  {
   "cell_type": "markdown",
   "metadata": {},
   "source": [
    "This chapter will explore two effective techniques for **prompt design**: <font color=\"red\">Role prompting</font> and <font color=\"red\"> Style prompting</font>, both of which are particularly suitable for our Solar."
   ]
  },
  {
   "cell_type": "markdown",
   "metadata": {},
   "source": [
    "- [**Assigning Roles to the Model**](#sec1)\n",
    "\n",
    "    - Role prompting and Style Prompting\n",
    "\n",
    "- [**Maintaining Consistency in Response**](#sec2)\n",
    "\n",
    "    - Constraints \n",
    "\n",
    "\n"
   ]
  },
  {
   "cell_type": "markdown",
   "metadata": {},
   "source": [
    "**Set up**"
   ]
  },
  {
   "cell_type": "code",
   "execution_count": null,
   "metadata": {},
   "outputs": [],
   "source": [
    "from openai import OpenAI\n",
    "\n",
    "# Retrieve the UPSTAGE_API_KEY variable from the IPython store\n",
    "%store -r UPSTAGE_API_KEY\n",
    "\n",
    "client = OpenAI(\n",
    "    api_key= UPSTAGE_API_KEY,\n",
    "    base_url=\"https://api.upstage.ai/v1/solar\"\n",
    ")\n",
    "\n",
    "config_model = {\n",
    "    \"model\": \"solar-pro\",\n",
    "    \"max_tokens\": 2000,\n",
    "    \"temperature\": 0.7,\n",
    "    \"top_p\": 0.9,\n",
    "}\n",
    "\n",
    "def get_completion(messages, system_prompt=\"\", config=config_model):\n",
    "    try:\n",
    "        if system_prompt:\n",
    "            messages = [{\"role\": \"system\", \"content\": system_prompt}] + messages\n",
    "\n",
    "        message = client.chat.completions.create(messages=messages, **config)\n",
    "        return message.choices[0].message.content\n",
    "    \n",
    "    except Exception as e:\n",
    "        print(f\"Error during API call: {e}\")\n",
    "        return None"
   ]
  },
  {
   "cell_type": "markdown",
   "metadata": {},
   "source": [
    "---"
   ]
  },
  {
   "cell_type": "markdown",
   "metadata": {},
   "source": [
    "<a id=\"sec1\"></a>\n",
    "## **5.1 Assigning Roles to the Model**"
   ]
  },
  {
   "cell_type": "markdown",
   "metadata": {},
   "source": [
    "### **5.1.1 Role Prompting**"
   ]
  },
  {
   "cell_type": "markdown",
   "metadata": {},
   "source": [
    "Also referred to as **persona prompting**, this technique assigns a specific role to the large language model within the prompt. This approach can lead to more desirable outputs for open-ended tasks and, in some instances, enhance accuracy on benchmarks. \n",
    "\n",
    "We are going to overview two types of role prompting:\n",
    "\n",
    "(1) `Speaker-Specific Prompt`: a prompt that assigns the role to the LLM.\n",
    "\n",
    "(2) `Audience-Specific Prompt:` a prompt that specifies the audience of the conversation (e.g., whom you are talking to)."
   ]
  },
  {
   "cell_type": "markdown",
   "metadata": {},
   "source": [
    "#### **(1) Speaker-Specific Prompt**"
   ]
  },
  {
   "cell_type": "code",
   "execution_count": null,
   "metadata": {},
   "outputs": [
    {
     "name": "stdout",
     "output_type": "stream",
     "text": [
      "As a lawyer, I can interpret the case as follows: The California Supreme Court's ruling in the case of Van Horn v. Toti has significant implications for the \"Good Samaritan law.\" The court ruled in a 4-3 decision that Lisa Toti, who was trying to help Alexandra Van Horn after a car accident, was responsible for the injuries Van Horn sustained during the rescue, which left her paralyzed.\n",
      "\n",
      "The Good Samaritan law typically provides legal protection to individuals who voluntarily offer assistance in an emergency situation, shielding them from liability for any unintentional harm caused while trying to help. However, in this case, the court found that Toti's actions went beyond what was reasonable and necessary in the given situation, leading to Van Horn's injuries.\n",
      "\n",
      "This ruling suggests that the Good Samaritan law may not provide absolute protection in all cases, and individuals must still exercise reasonable care and judgment when attempting to help others in emergency situations. It is essential to consider the specific circumstances and potential risks before taking action to ensure that the assistance provided does not cause further harm.\n"
     ]
    }
   ],
   "source": [
    "\n",
    "message = [\n",
    "    {\n",
    "        \"role\": \"user\",\n",
    "        \"content\": \"\"\"You are a lawyer.\n",
    "Please interpret the case regarding the Good Samaritan law from the following. \n",
    "case: \n",
    "The California Supreme Court recently made an interesting ruling related to the \"Good Samaritan law.\" This ruling concerns the legal dispute between Alexandra Van Horn and Lisa Toti. Here’s what happened: In 2004, Alexandra Van Horn and Lisa Toti were heading to a banquet with colleagues from the same factory. However, the car that Van Horn was in got into an accident, and Lisa Toti, who was in another car, pulled Van Horn out of her vehicle, which was stuck at the accident scene. Unfortunately, during this rescue, Van Horn sustained injuries that left her unable to use her lower body. Subsequently, Van Horn filed a lawsuit against Toti, claiming that she was paralyzed due to Toti's actions while trying to rescue her. The California Supreme Court ruled in a 4-3 decision, acknowledging Toti's responsibility.\"\"\"\n",
    "    }\n",
    "]\n",
    "\n",
    "response = get_completion(messages=message)\n",
    "print(response)"
   ]
  },
  {
   "cell_type": "code",
   "execution_count": 7,
   "metadata": {},
   "outputs": [
    {
     "name": "stdout",
     "output_type": "stream",
     "text": [
      "The Good Samaritan law in California generally protects individuals who voluntarily provide emergency medical assistance or aid to someone in need from being held liable for any harm or injury that may result from their actions. However, in this case, the California Supreme Court ruled that Lisa Toti could be held responsible for Alexandra Van Horn's injuries. The court's decision was based on the fact that Toti's actions went beyond what would be considered reasonable assistance in an emergency situation. The court found that Toti's decision to pull Van Horn out of the vehicle, without proper training or equipment, and in a manner that caused further injury, was not protected by the Good Samaritan law. This ruling highlights that while the Good Samaritan law encourages people to help others in need, it does not absolve individuals from liability if their actions are deemed negligent or reckless.\n"
     ]
    }
   ],
   "source": [
    "# Without any specific role\n",
    "message = [\n",
    "    {\n",
    "        \"role\": \"user\",\n",
    "        \"content\": \"\"\"Please interpret the case regarding the Good Samaritan law from the following. \n",
    "case: \n",
    "The California Supreme Court recently made an interesting ruling related to the \"Good Samaritan law.\" This ruling concerns the legal dispute between Alexandra Van Horn and Lisa Toti. Here’s what happened: In 2004, Alexandra Van Horn and Lisa Toti were heading to a banquet with colleagues from the same factory. However, the car that Van Horn was in got into an accident, and Lisa Toti, who was in another car, pulled Van Horn out of her vehicle, which was stuck at the accident scene. Unfortunately, during this rescue, Van Horn sustained injuries that left her unable to use her lower body. Subsequently, Van Horn filed a lawsuit against Toti, claiming that she was paralyzed due to Toti's actions while trying to rescue her. The California Supreme Court ruled in a 4-3 decision, acknowledging Toti's responsibility.\"\"\"\n",
    "    }\n",
    "]\n",
    "\n",
    "response = get_completion(messages=message)\n",
    "print(response)"
   ]
  },
  {
   "cell_type": "markdown",
   "metadata": {},
   "source": [
    "#### **(2) Audience-Specific Prompt**"
   ]
  },
  {
   "cell_type": "markdown",
   "metadata": {},
   "source": [
    "Please compare how a speaker-specific prompt and its results differ. "
   ]
  },
  {
   "cell_type": "code",
   "execution_count": 10,
   "metadata": {},
   "outputs": [
    {
     "name": "stdout",
     "output_type": "stream",
     "text": [
      "Well, this is a very interesting case! The Good Samaritan law is a law that protects people who try to help others in emergency situations. It means that if someone tries to help another person who is in danger or needs medical attention, they won't be held legally responsible if something goes wrong.\n",
      "\n",
      "In this case, Lisa Toti tried to help Alexandra Van Horn by pulling her out of her car after an accident. However, during this rescue, Van Horn got injured and became paralyzed. Van Horn then sued Toti, saying that she was paralyzed because of Toti's actions.\n",
      "\n",
      "The California Supreme Court had to decide if the Good Samaritan law applied in this situation. They made a close decision, with 4 judges saying that Toti was responsible and 3 judges saying that she wasn't. In the end, they decided that Toti was responsible for Van Horn's injuries.\n",
      "\n",
      "This case shows that even when you're trying to help someone, you need to be very careful and make sure you're not causing more harm. It's always a good idea to call for professional help, like the police or paramedics, in emergency situations.\n"
     ]
    }
   ],
   "source": [
    "message = [\n",
    "    {\n",
    "        \"role\": \"user\",\n",
    "        \"content\": \"\"\"You are currently talking with an elementary school student.\n",
    "Please interpret the case regarding the Good Samaritan law from the following.\n",
    "case: \n",
    "The California Supreme Court recently made an interesting ruling related to the \"Good Samaritan law.\" This ruling concerns the legal dispute between Alexandra Van Horn and Lisa Toti. Here’s what happened: In 2004, Alexandra Van Horn and Lisa Toti were heading to a banquet with colleagues from the same factory. However, the car that Van Horn was in got into an accident, and Lisa Toti, who was in another car, pulled Van Horn out of her vehicle, which was stuck at the accident scene. Unfortunately, during this rescue, Van Horn sustained injuries that left her unable to use her lower body. Subsequently, Van Horn filed a lawsuit against Toti, claiming that she was paralyzed due to Toti's actions while trying to rescue her. The California Supreme Court ruled in a 4-3 decision, acknowledging Toti's responsibility.\"\"\"\n",
    "    }\n",
    "]\n",
    "\n",
    "response = get_completion(messages=message)\n",
    "print(response)"
   ]
  },
  {
   "cell_type": "markdown",
   "metadata": {},
   "source": []
  },
  {
   "cell_type": "markdown",
   "metadata": {},
   "source": [
    "### **5.1.2 Style Prompting**"
   ]
  },
  {
   "cell_type": "markdown",
   "metadata": {},
   "source": [
    "This technique entails defining the **desired style, tone, or genre** within the prompt to influence the output of a large language model. A comparable outcome can be attained through role prompting. "
   ]
  },
  {
   "cell_type": "markdown",
   "metadata": {},
   "source": [
    "**Compare the structural prompt.**\n",
    "\n",
    "These two prompts show noticeable distinctions."
   ]
  },
  {
   "cell_type": "code",
   "execution_count": null,
   "metadata": {},
   "outputs": [
    {
     "name": "stdout",
     "output_type": "stream",
     "text": [
      "\"BTS: K-pop's unstoppable, ARMY-boosted, world-conquering, dance-viral, chart-topping sensation!\"\n"
     ]
    }
   ],
   "source": [
    "message = [\n",
    "    {\n",
    "        \"role\": \"user\",\n",
    "        \"content\": \"Write a ten-word sentence about BTS, the Korean singers, in a humorous tone.\"\n",
    "    }\n",
    "]\n",
    "\n",
    "response = get_completion(messages=message)\n",
    "print(response)"
   ]
  },
  {
   "cell_type": "code",
   "execution_count": null,
   "metadata": {},
   "outputs": [
    {
     "name": "stdout",
     "output_type": "stream",
     "text": [
      "BTS, Korean sensation, inspires millions with music and positivity.\n"
     ]
    }
   ],
   "source": [
    "message = [\n",
    "    {\n",
    "        \"role\": \"user\",\n",
    "        \"content\": \"Write a ten-word sentence about BTS, the Korean singers.\"\n",
    "    }\n",
    "]\n",
    "\n",
    "response = get_completion(messages=message)\n",
    "print(response)"
   ]
  },
  {
   "cell_type": "markdown",
   "metadata": {},
   "source": [
    "- **Stylistic Constraints**\n",
    "\n",
    "For style prompting, we can also use `stylistic constraints`, which are present in all languages. This often consists of an adjective placed before a document type, such as in the examples: 'write a formal email to my boss' or 'write a funny pickup line.’\n",
    "\n",
    "Here are some lists we can use for stylistic constraints."
   ]
  },
  {
   "cell_type": "markdown",
   "metadata": {},
   "source": [
    "> writing style, tone, mood, characterization, pacing, plot and genere. \n",
    "\n",
    "- writing style: functional, flowery, candid, prosaic, ornate, poetic\n",
    "- tone: dramatic, humorous, sad, optimistic, formal, informal, assertive, aggressive\n",
    "- mood: angry, fearful, happy, sad\n",
    "- pacing : fast and slow paces"
   ]
  },
  {
   "cell_type": "markdown",
   "metadata": {},
   "source": [
    "### **5.1.3 Examples**"
   ]
  },
  {
   "cell_type": "markdown",
   "metadata": {},
   "source": [
    "**Example #1: Content Creation**\n",
    "\n",
    "Compare the prompts: <ins>flowery</ins> vs <ins>functional</ins>"
   ]
  },
  {
   "cell_type": "code",
   "execution_count": null,
   "metadata": {},
   "outputs": [
    {
     "name": "stdout",
     "output_type": "stream",
     "text": [
      "As the first blush of dawn begins to caress the horizon, a symphony of colors erupts in the sky, heralding the arrival of the sun. A delicate tapestry of pastel hues, ranging from the softest lilac to the gentlest rose, is woven across the heavens, creating a breathtaking spectacle that stirs the soul. The celestial artist then adds dashes of gold and amber, as if sprinkling stardust, until the canvas is aglow with the promise of a new day. And then, with a grandeur that commands the attention of all creation, the sun emerges, its radiant visage casting away the shadows of the night and bathing the world in a warm, golden light. The birds, awakened by this celestial performance, join in with their sweet songs, creating a harmony that resonates with the very essence of life itself.\n"
     ]
    }
   ],
   "source": [
    "message = [\n",
    "    {\n",
    "        \"role\": \"user\",\n",
    "        \"content\": \"Write a flowery passage about sunrise.\"\n",
    "    }\n",
    "]\n",
    "\n",
    "response = get_completion(messages=message)\n",
    "print(response)"
   ]
  },
  {
   "cell_type": "code",
   "execution_count": null,
   "metadata": {},
   "outputs": [
    {
     "name": "stdout",
     "output_type": "stream",
     "text": [
      "The sunrise is a breathtaking natural phenomenon that marks the beginning of a new day. As the sun slowly emerges above the horizon, its warm golden rays gradually illuminate the sky, transforming the darkness of night into a beautiful canvas of vibrant colors. The sky transitions from deep blues to soft pinks, purples, and oranges, creating a stunning spectacle that is truly awe-inspiring. The sunrise symbolizes hope, renewal, and the promise of a fresh start, making it a cherished moment for many people around the world.\n"
     ]
    }
   ],
   "source": [
    "message = [\n",
    "    {\n",
    "        \"role\": \"user\",\n",
    "        \"content\": \"Write a functional passage about sunrise.\"\n",
    "    }\n",
    "]\n",
    "\n",
    "response = get_completion(messages=message)\n",
    "print(response)"
   ]
  },
  {
   "cell_type": "markdown",
   "metadata": {},
   "source": []
  },
  {
   "cell_type": "markdown",
   "metadata": {},
   "source": [
    "**Example #2: Business Email**"
   ]
  },
  {
   "cell_type": "code",
   "execution_count": 17,
   "metadata": {},
   "outputs": [
    {
     "name": "stdout",
     "output_type": "stream",
     "text": [
      "Subject: Heartfelt Thanks and Next Steps - [Project Name] Completion\n",
      "\n",
      "Dear [Marketing Team],\n",
      "\n",
      "I hope this message finds you well. I am writing to express my deepest gratitude and appreciation for your exceptional efforts and dedication in successfully completing the [Project Name]. Your hard work, creativity, and collaboration have resulted in a remarkable outcome that exceeded our expectations.\n",
      "\n",
      "Throughout this project, I have witnessed the team's unwavering commitment to delivering high-quality work, meeting deadlines, and fostering a positive and supportive work environment. Your individual contributions, whether big or small, have played a significant role in our success. I would like to highlight a few key achievements:\n",
      "\n",
      "1. [Achievement 1]\n",
      "2. [Achievement 2]\n",
      "3. [Achievement 3]\n",
      "\n",
      "As we celebrate this milestone, I would also like to provide a brief overview of our next steps:\n",
      "\n",
      "1. [Next Step 1]\n",
      "2. [Next Step 2]\n",
      "3. [Next Step 3]\n",
      "\n",
      "Please take the time to review these upcoming tasks and feel free to reach out to me or your respective team leads if you have any questions or require further clarification.\n",
      "\n",
      "Once again, thank you for your outstanding performance and for being an integral part of our marketing team. I am proud to work alongside such talented and dedicated professionals. I look forward to our continued success in future projects.\n",
      "\n",
      "Warm regards,\n",
      "\n",
      "[Your Name]\n",
      "[Your Position]\n"
     ]
    }
   ],
   "source": [
    "message = [\n",
    "    {\n",
    "        \"role\": \"user\",\n",
    "        \"content\": \"write a formal and well-structured buisness email to my employees. As the team leader of the marketing team, I want to send a thank-you email to my team members after the project's completion. In this email, I want to emphasize the team's efforts and achievements, and include a brief overview of the next steps.\"\n",
    "    }\n",
    "]\n",
    "\n",
    "response = get_completion(messages=message)\n",
    "print(response)"
   ]
  },
  {
   "cell_type": "markdown",
   "metadata": {},
   "source": []
  },
  {
   "cell_type": "markdown",
   "metadata": {},
   "source": [
    "**References** \n",
    "\n",
    "Zheng, M., Pei, J., Logeswaran, L., Lee, M., & Jurgens, D. (2024, November). *When” A Helpful Assistant” Is Not Really Helpful: Personas in System Prompts Do Not Improve Performances of Large Language Models.* In Findings of the Association for Computational Linguistics: EMNLP 2024 (pp. 15126-15154).\n",
    "\n",
    "Lu, A., Zhang, H., Zhang, Y., Wang, X., & Yang, D. (2023). *Bounding the capabilities of large language models in open text generation with prompt constraints.* arXiv preprint arXiv:2302.09185."
   ]
  },
  {
   "cell_type": "markdown",
   "metadata": {},
   "source": [
    "---"
   ]
  },
  {
   "cell_type": "markdown",
   "metadata": {},
   "source": [
    "<a id=\"sec2\"></a>\n",
    "## **5.2 Maintaining Consistency in Response**"
   ]
  },
  {
   "cell_type": "markdown",
   "metadata": {},
   "source": [
    "**Constraints**\n",
    "\n",
    "- Define clear guidelines for expected **response formats**.\n",
    "\n",
    "- Use **consistent terminology** throughout prompts to avoid confusion.\n",
    "\n",
    "Constraints are particularly effective in *zero-shot prompt engineering* techniques."
   ]
  },
  {
   "cell_type": "markdown",
   "metadata": {},
   "source": [
    "### **5.2.1 Define Clear Guidelines for Expected Response Formats**\n",
    "\n",
    "- Specify the structure and components of the expected output.\n",
    "\n",
    "- Examples of response formats:\n",
    "\n",
    "    - **List Format**: “Provide a list of five benefits of regular exercise.”\n",
    "\n",
    "    - **Paragraph Format**: “Explain the importance of renewable energy in a single paragraph.”\n",
    "\n",
    "    - **Dialogue Format**: “Write a conversation between two characters (Name A and Name B) discussing their weekend plans. Include three multi-turn exchanges.”"
   ]
  },
  {
   "cell_type": "markdown",
   "metadata": {},
   "source": [
    "#### **(1) Examples**"
   ]
  },
  {
   "cell_type": "markdown",
   "metadata": {},
   "source": [
    "**Example #1: List Format**"
   ]
  },
  {
   "cell_type": "code",
   "execution_count": null,
   "metadata": {},
   "outputs": [
    {
     "name": "stdout",
     "output_type": "stream",
     "text": [
      "1. Improved cardiovascular health: Regular exercise strengthens the heart and improves circulation, reducing the risk of heart disease.\n",
      "2. Weight management: Exercise helps you maintain a healthy weight by burning calories and building muscle.\n",
      "3. Enhanced mood and mental health: Physical activity stimulates the production of endorphins, which can help reduce stress, anxiety, and depression.\n",
      "4. Increased energy and stamina: Regular exercise improves your muscle strength and boosts your endurance, giving you more energy throughout the day.\n",
      "5. Better sleep: Regular physical activity can help you fall asleep faster and enjoy deeper sleep.\n"
     ]
    }
   ],
   "source": [
    "message = [\n",
    "    {\n",
    "        \"role\": \"user\",\n",
    "        \"content\": \"Provide a list of five benefits of regular exercise.\"\n",
    "    }\n",
    "]\n",
    "\n",
    "response = get_completion(messages=message)\n",
    "print(response)"
   ]
  },
  {
   "cell_type": "markdown",
   "metadata": {},
   "source": []
  },
  {
   "cell_type": "markdown",
   "metadata": {},
   "source": [
    "**Example #2: Paragraph Format**"
   ]
  },
  {
   "cell_type": "code",
   "execution_count": null,
   "metadata": {},
   "outputs": [
    {
     "name": "stdout",
     "output_type": "stream",
     "text": [
      "Renewable energy is of paramount importance as it offers a sustainable and environmentally friendly alternative to fossil fuels, which are finite and contribute significantly to greenhouse gas emissions, leading to climate change. Harnessing energy from renewable sources such as solar, wind, hydro, and geothermal power reduces our carbon footprint, improves air quality, and promotes energy security by diversifying our energy supply. Furthermore, the renewable energy sector is a growing source of employment and economic development, making it a crucial component in building a sustainable and prosperous future for generations to come.\n"
     ]
    }
   ],
   "source": [
    "message = [\n",
    "    {\n",
    "        \"role\": \"user\",\n",
    "        \"content\": \"Explain the importance of renewable energy in a single paragraph.\"\n",
    "    }\n",
    "]\n",
    "\n",
    "response = get_completion(messages=message)\n",
    "print(response)"
   ]
  },
  {
   "cell_type": "markdown",
   "metadata": {},
   "source": []
  },
  {
   "cell_type": "markdown",
   "metadata": {},
   "source": [
    "**Example #3: Dialogue Format**"
   ]
  },
  {
   "cell_type": "code",
   "execution_count": null,
   "metadata": {},
   "outputs": [
    {
     "name": "stdout",
     "output_type": "stream",
     "text": [
      "Name A: Hey there! Have you made any plans for the weekend yet?\n",
      "\n",
      "Name B: Not yet, I'm still trying to decide. I was thinking about going hiking or maybe catching a movie. What about you?\n",
      "\n",
      "Name A: I'm actually planning a little getaway with some friends. We're heading to the beach for a couple of days.\n",
      "\n",
      "Name B: That sounds amazing! Which beach are you going to?\n",
      "\n",
      "Name A: We're going to Clearwater Beach. It's supposed to be really beautiful and relaxing.\n",
      "\n",
      "Name B: Wow, I've heard great things about that place. I hope you all have a fantastic time. As for me, I think I'll go hiking this weekend. There's a new trail I've been wanting to try out.\n",
      "\n",
      "Name A: That sounds like a great idea too! Which trail is it?\n",
      "\n",
      "Name B: It's called the Sunset Ridge Trail. I've heard the views are breathtaking.\n",
      "\n",
      "Name A: They definitely are. I've been there before. Make sure to take lots of pictures!\n",
      "\n",
      "Name B: I will, thanks! Have a safe drive to the beach.\n",
      "\n",
      "Name A: Thanks, I will. Enjoy your hike!\n"
     ]
    }
   ],
   "source": [
    "message = [\n",
    "    {\n",
    "        \"role\": \"user\",\n",
    "        \"content\": \"Write a conversation between two characters (Name A and Name B) discussing their weekend plans. Include three multi-turn exchanges.\"\n",
    "    }\n",
    "]\n",
    "\n",
    "response = get_completion(messages=message)\n",
    "print(response)"
   ]
  },
  {
   "cell_type": "markdown",
   "metadata": {},
   "source": []
  },
  {
   "cell_type": "markdown",
   "metadata": {},
   "source": [
    "### **5.2.2 Use Consistent Terminology throughout Prompts** "
   ]
  },
  {
   "cell_type": "markdown",
   "metadata": {},
   "source": [
    "- Select specific terms and phrases to **use consistently** in all related prompts. This minimizes confusion and helps the model understand the context better.\n",
    "\n",
    "    For example, if you choose \"user\" to refer to the person interacting with the model, use \"user\" instead of switching to \"client\" or \"participant.”"
   ]
  },
  {
   "cell_type": "markdown",
   "metadata": {},
   "source": [
    "### **5.2.3 Practice**"
   ]
  },
  {
   "cell_type": "markdown",
   "metadata": {},
   "source": [
    "**Exercise #1 : Response Format**"
   ]
  },
  {
   "cell_type": "markdown",
   "metadata": {},
   "source": [
    "Read the following text and summarize it. Limit the length. Group similar concepts together and classify them by type."
   ]
  },
  {
   "cell_type": "markdown",
   "metadata": {},
   "source": [
    "- Text :\n",
    "> **Face Amount**\n",
    "> \n",
    "> The dollar amount to be paid to the beneficiary when the insured dies. It does not include other amounts that may be paid from insurance purchased with dividends or any policy riders.\n",
    "> \n",
    "> **Financial Guarantee Insurance**\n",
    "> \n",
    "> A surety bond, insurance policy or, when issued by an insurer, an indemnity contract and any guaranty similar to the foregoing types, under which loss is payable upon proof of occurrence of financial loss to an insured claimant, obligee, or indemnitee.\n",
    "> \n",
    "> **Fire Insurance**\n",
    "> \n",
    "> Coverage for loss of or damage to a building and/or contents due to fire.\n",
    "> \n",
    "> **Good Driver Discount**\n",
    "> \n",
    "> To be eligible for the Good Drivers Discount all operators of the insured vehicles must have been licensed for three or more year, have no more than a one (1) point charge on their driving record and has not been determined \"at fault\" in an accident resulting in bodily injury or death to any person.\n",
    "> \n",
    "> **Grace Period**\n",
    "> \n",
    "> A specified period immediately following the premium due date during which a payment can be made to continue a policy in force without interruption. This applies only to Life and Health policies. Check your policy to be sure that a grace period is offered and how many days, if any, are allowed.\n",
    "> \n",
    "> **Guaranteed Insurability**\n",
    "> \n",
    "> An option that permits the policy holder to buy additional stated amounts of life insurance at stated times in the future without evidence of insurability.\n",
    "> \n",
    "> **Health Insurance**\n",
    "> \n",
    "> A policy that will pay specifies sums for medical expenses or treatments. Health policies can offer many options and vary in their approaches to coverage.\n",
    "> \n",
    "> **Homeowner Insurance**\n",
    "> \n",
    "> An elective combination of coverages for the risks of owning a home. Can include losses due to fire, burglary, vandalism, earthquake, and other perils.\n",
    "> \n",
    "> **Incontestable Clause**\n",
    "> \n",
    "> A policy provision in which the company agrees not to contest the validity of the contract after it has been in force for a certain period of time, usually two years."
   ]
  },
  {
   "cell_type": "code",
   "execution_count": null,
   "metadata": {},
   "outputs": [],
   "source": [
    "message = [\n",
    "    {\n",
    "        \"role\": \"user\",\n",
    "        \"content\": \" \" # ←- Insert your prompt here.\n",
    "    }\n",
    "]\n",
    "\n",
    "response = get_completion(messages=message)\n",
    "print(response)"
   ]
  },
  {
   "cell_type": "markdown",
   "metadata": {},
   "source": [
    "**$\\rightarrow$ Expected Output:**\n",
    "\n",
    "> 1. **Insurance Types**:\n",
    "> - Financial Guarantee Insurance: A contract that covers financial loss.\n",
    "> - Fire Insurance: Covers loss or damage due to fire.\n",
    "> - Health Insurance: Pays for medical expenses or treatments.\n",
    "> - Homeowner Insurance: Covers risks of owning a home, like fire, burglary, etc.\n",
    "> 2. **Policy Features**:\n",
    "> - Face Amount: The dollar amount paid to the beneficiary upon the insured's death.\n",
    "> - Good Driver Discount: Discount for drivers with clean records.\n",
    "> - Grace Period: Period after premium due date to continue a policy without interruption.\n",
    "> - Guaranteed Insurability: Option to buy additional insurance without evidence of insurability.\n",
    "> - Incontestable Clause: Provision preventing the company from contesting the contract's validity after a certain period."
   ]
  },
  {
   "cell_type": "markdown",
   "metadata": {},
   "source": []
  },
  {
   "cell_type": "markdown",
   "metadata": {},
   "source": [
    "**Exercise #2: Terminology Consistency**"
   ]
  },
  {
   "cell_type": "markdown",
   "metadata": {},
   "source": [
    "Explain the differences between a 'meme' and a 'viral video' in the context of social media marketing. Use 'content' to refer to both."
   ]
  },
  {
   "cell_type": "code",
   "execution_count": null,
   "metadata": {},
   "outputs": [],
   "source": [
    "message = [\n",
    "    {\n",
    "        \"role\": \"user\",\n",
    "        \"content\": \" \" # ←- Insert your prompt here.\n",
    "    }\n",
    "]\n",
    "\n",
    "response = get_completion(messages=message)\n",
    "print(response)"
   ]
  },
  {
   "cell_type": "markdown",
   "metadata": {},
   "source": [
    "**$\\rightarrow$ Expected Output:**\n",
    "\n",
    "> A meme is a type of content that spreads humor or cultural ideas through images and text, while a viral video is a type of content that rapidly gains popularity and is shared widely across platforms. "
   ]
  }
 ],
 "metadata": {
  "kernelspec": {
   "display_name": "base",
   "language": "python",
   "name": "python3"
  },
  "language_info": {
   "codemirror_mode": {
    "name": "ipython",
    "version": 3
   },
   "file_extension": ".py",
   "mimetype": "text/x-python",
   "name": "python",
   "nbconvert_exporter": "python",
   "pygments_lexer": "ipython3",
   "version": "3.12.4"
  }
 },
 "nbformat": 4,
 "nbformat_minor": 2
}
