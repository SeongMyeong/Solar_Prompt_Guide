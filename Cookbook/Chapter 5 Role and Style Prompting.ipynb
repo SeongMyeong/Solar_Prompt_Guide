{
 "cells": [
  {
   "cell_type": "markdown",
   "metadata": {},
   "source": [
    "## **Chapter 5. Role and Style Prompting**"
   ]
  },
  {
   "cell_type": "markdown",
   "metadata": {},
   "source": [
    "This chapter will explore two effective techniques for prompt design: role prompting and style prompting, both of which are particularly suitable for our solar."
   ]
  },
  {
   "cell_type": "markdown",
   "metadata": {},
   "source": [
    "- [**Assigning Roles to the Model**](#sec1)\n",
    "\n",
    "    - Role prompting and Style Prompting\n",
    "\n",
    "- [**Maintaining Consistency in Response**](#sec2)\n",
    "\n",
    "    - Constraints\n"
   ]
  },
  {
   "cell_type": "markdown",
   "metadata": {},
   "source": [
    "**Set up**"
   ]
  },
  {
   "cell_type": "code",
   "execution_count": null,
   "metadata": {},
   "outputs": [],
   "source": [
    "from openai import OpenAI\n",
    "\n",
    "# Retrieve the UPSTAGE_API_KEY variable from the IPython store\n",
    "%store -r UPSTAGE_API_KEY\n",
    "\n",
    "client = OpenAI(\n",
    "    api_key= UPSTAGE_API_KEY,\n",
    "    base_url=\"https://api.upstage.ai/v1/solar\"\n",
    ")\n",
    "\n",
    "config_model = {\n",
    "    \"model\": \"solar-pro\",\n",
    "    \"max_tokens\": 500,\n",
    "    \"temperature\": 0.7,\n",
    "    \"top_p\": 0.9,\n",
    "}"
   ]
  },
  {
   "cell_type": "markdown",
   "metadata": {},
   "source": [
    "---"
   ]
  },
  {
   "cell_type": "markdown",
   "metadata": {},
   "source": [
    "<a id=\"sec1\"></a>\n",
    "### **5.1 Assigning Roles to the Model**"
   ]
  },
  {
   "cell_type": "markdown",
   "metadata": {},
   "source": [
    "#### **1) Role Prompting**"
   ]
  },
  {
   "cell_type": "markdown",
   "metadata": {},
   "source": [
    "Also referred to as **persona prompting**, this technique assigns a specific role to the large language model within the prompt. This approach can lead to more desirable outputs for open-ended tasks and, in some instances, enhance accuracy on benchmarks. \n",
    "\n",
    "We are going to overview two types of role prompting:\n",
    "\n",
    "(1) `Speaker-specific prompt`: a prompt that assigns the role to the LLM.\n",
    "\n",
    "(2) `Audience-specific prompt:` a prompt that specifies the audience of the conversation (e.g., whom you are talking to)."
   ]
  },
  {
   "cell_type": "markdown",
   "metadata": {},
   "source": [
    "##### **(1) Speaker-Specific Prompt**"
   ]
  },
  {
   "cell_type": "code",
   "execution_count": null,
   "metadata": {},
   "outputs": [
    {
     "name": "stdout",
     "output_type": "stream",
     "text": [
      "In the case of Van Horn v. Toti, the California Supreme Court was tasked with interpreting the Good Samaritan law. This law generally provides legal protection to individuals who voluntarily assist others in emergency situations, shielding them from liability for any unintentional harm caused during the rescue. \n",
      "\n",
      "In this case, Lisa Toti, the defendant, was found to be responsible for the injuries sustained by Alexandra Van Horn, the plaintiff, during the rescue attempt. The court's decision was made in a 4-3 split, indicating a close and complex legal question. \n",
      "\n",
      "The court likely found that Toti's actions exceeded the scope of the Good Samaritan law's protection. This could be due to several reasons, such as Toti's actions being reckless, negligent, or intentionally harmful. Alternatively, the court might have determined that Toti's actions did not meet the criteria for a \"voluntary\" rescue, or that the situation did not constitute an \"emergency\" as defined by the law. \n",
      "\n",
      "Without further details on the court's rationale, it's challenging to pinpoint the exact reason. However, this case serves as a reminder that the Good Samaritan law has limitations and may not always protect rescuers from legal liability.\n"
     ]
    }
   ],
   "source": [
    "message = [\n",
    "    {\n",
    "        \"role\": \"user\",\n",
    "        \"content\": \"\"\"You are a lawyer.\n",
    "Please interpret the case regarding the Good Samaritan law from the following. \n",
    "case: \n",
    "The California Supreme Court recently made an interesting ruling related to the \"Good Samaritan law.\" This ruling concerns the legal dispute between Alexandra Van Horn and Lisa Toti. Here’s what happened: In 2004, Alexandra Van Horn and Lisa Toti were heading to a banquet with colleagues from the same factory. However, the car that Van Horn was in got into an accident, and Lisa Toti, who was in another car, pulled Van Horn out of her vehicle, which was stuck at the accident scene. Unfortunately, during this rescue, Van Horn sustained injuries that left her unable to use her lower body. Subsequently, Van Horn filed a lawsuit against Toti, claiming that she was paralyzed due to Toti's actions while trying to rescue her. The California Supreme Court ruled in a 4-3 decision, acknowledging Toti's responsibility.\"\"\"\n",
    "    }\n",
    "]\n",
    "\n",
    "config = {**config_model, \"messages\": message}\n",
    "\n",
    "response = client.chat.completions.create(**config)\n",
    "print(response.choices[0].message.content)"
   ]
  },
  {
   "cell_type": "code",
   "execution_count": null,
   "metadata": {},
   "outputs": [
    {
     "name": "stdout",
     "output_type": "stream",
     "text": [
      "The Good Samaritan law is designed to protect individuals who voluntarily provide assistance to those in need during emergencies. In this case, Lisa Toti was attempting to help Alexandra Van Horn after a car accident, which would typically fall under the protection of the Good Samaritan law. However, the California Supreme Court ruled in a 4-3 decision that Toti was responsible for Van Horn's injuries. This decision suggests that the court found Toti's actions to be negligent or reckless, exceeding the reasonable bounds of a Good Samaritan's duty. The court's ruling indicates that while the Good Samaritan law offers protection, it does not absolve individuals of liability if their actions cause harm due to negligence or recklessness.\n"
     ]
    }
   ],
   "source": [
    "# Without any specific role\n",
    "message = [\n",
    "    {\n",
    "        \"role\": \"user\",\n",
    "        \"content\": \"\"\"Please interpret the case regarding the Good Samaritan law from the following. \n",
    "case: \n",
    "The California Supreme Court recently made an interesting ruling related to the \"Good Samaritan law.\" This ruling concerns the legal dispute between Alexandra Van Horn and Lisa Toti. Here’s what happened: In 2004, Alexandra Van Horn and Lisa Toti were heading to a banquet with colleagues from the same factory. However, the car that Van Horn was in got into an accident, and Lisa Toti, who was in another car, pulled Van Horn out of her vehicle, which was stuck at the accident scene. Unfortunately, during this rescue, Van Horn sustained injuries that left her unable to use her lower body. Subsequently, Van Horn filed a lawsuit against Toti, claiming that she was paralyzed due to Toti's actions while trying to rescue her. The California Supreme Court ruled in a 4-3 decision, acknowledging Toti's responsibility.\"\"\"\n",
    "    }\n",
    "]\n",
    "\n",
    "config = {**config_model, \"messages\": message}\n",
    "\n",
    "response = client.chat.completions.create(**config)\n",
    "print(response.choices[0].message.content)"
   ]
  },
  {
   "cell_type": "markdown",
   "metadata": {},
   "source": [
    "##### **(2) Audience-Specific Prompt**"
   ]
  },
  {
   "cell_type": "markdown",
   "metadata": {},
   "source": [
    "Please compare how a speaker-specific prompt and its results differ. "
   ]
  },
  {
   "cell_type": "code",
   "execution_count": null,
   "metadata": {},
   "outputs": [
    {
     "name": "stdout",
     "output_type": "stream",
     "text": [
      "So, the Good Samaritan law is about helping people in need, like when someone is hurt or in danger. In this case, Lisa Toti tried to help Alexandra Van Horn by pulling her out of a car after an accident. However, Van Horn got hurt during the rescue and couldn't use her lower body anymore. She sued Toti, saying Toti caused her injuries.\n",
      "\n",
      "The California Supreme Court had to decide if Toti was responsible for Van Horn's injuries. They ruled that Toti was responsible, but it was a close decision, with only 4 judges agreeing and 3 disagreeing. This case shows that even when you try to help someone, you might still be held responsible if something goes wrong.\n"
     ]
    }
   ],
   "source": [
    "message = [\n",
    "    {\n",
    "        \"role\": \"user\",\n",
    "        \"content\": \"\"\"You are currently talking with an elementary school student.\n",
    "Please interpret the case regarding the Good Samaritan law from the following.\n",
    "case: \n",
    "The California Supreme Court recently made an interesting ruling related to the \"Good Samaritan law.\" This ruling concerns the legal dispute between Alexandra Van Horn and Lisa Toti. Here’s what happened: In 2004, Alexandra Van Horn and Lisa Toti were heading to a banquet with colleagues from the same factory. However, the car that Van Horn was in got into an accident, and Lisa Toti, who was in another car, pulled Van Horn out of her vehicle, which was stuck at the accident scene. Unfortunately, during this rescue, Van Horn sustained injuries that left her unable to use her lower body. Subsequently, Van Horn filed a lawsuit against Toti, claiming that she was paralyzed due to Toti's actions while trying to rescue her. The California Supreme Court ruled in a 4-3 decision, acknowledging Toti's responsibility.\"\"\"\n",
    "    }\n",
    "]\n",
    "\n",
    "config = {**config_model, \"messages\": message}\n",
    "\n",
    "response = client.chat.completions.create(**config)\n",
    "print(response.choices[0].message.content)"
   ]
  },
  {
   "cell_type": "markdown",
   "metadata": {},
   "source": [
    "#### **2) Style Prompting**"
   ]
  },
  {
   "cell_type": "markdown",
   "metadata": {},
   "source": [
    "This technique entails defining the **desired style, tone, or genre** within the prompt to influence the output of a large language model. A comparable outcome can be attained through role prompting"
   ]
  },
  {
   "cell_type": "markdown",
   "metadata": {},
   "source": [
    "**Compare the structural prompt.**\n",
    "\n",
    "These two prompts show noticeable distinctions."
   ]
  },
  {
   "cell_type": "code",
   "execution_count": null,
   "metadata": {},
   "outputs": [
    {
     "name": "stdout",
     "output_type": "stream",
     "text": [
      "BTS: \"K-pop's unstoppable, ARMY-building, dance-moving, world-conquering, boy-band.\"\n"
     ]
    }
   ],
   "source": [
    "message = [\n",
    "    {\n",
    "        \"role\": \"user\",\n",
    "        \"content\": \"Write a ten-word sentence about BTS, the Korean singers, in a humorous tone.\"\n",
    "    }\n",
    "]\n",
    "\n",
    "config = {**config_model, \"messages\": message}\n",
    "\n",
    "response = client.chat.completions.create(**config)\n",
    "print(response.choices[0].message.content)"
   ]
  },
  {
   "cell_type": "code",
   "execution_count": null,
   "metadata": {},
   "outputs": [
    {
     "name": "stdout",
     "output_type": "stream",
     "text": [
      "BTS, South Korea's global pop sensation, inspires millions worldwide.\n"
     ]
    }
   ],
   "source": [
    "message = [\n",
    "    {\n",
    "        \"role\": \"user\",\n",
    "        \"content\": \"Write a ten-word sentence about BTS, the Korean singers.\"\n",
    "    }\n",
    "]\n",
    "\n",
    "config = {**config_model, \"messages\": message}\n",
    "\n",
    "response = client.chat.completions.create(**config)\n",
    "print(response.choices[0].message.content)"
   ]
  },
  {
   "cell_type": "markdown",
   "metadata": {},
   "source": [
    "- **Stylistic Constraints**\n",
    "\n",
    "For style prompting, we can also use `stylistic constraints`, which are present in all languages. This often consists of an adjective placed before a document type, such as in the examples: 'write a formal email to my boss' or 'write a funny pickup line.’\n",
    "\n",
    "Here are some lists we can use for stylistic constraints."
   ]
  },
  {
   "cell_type": "markdown",
   "metadata": {},
   "source": [
    "> writing style, tone, mood, characterization, pacing, plot and genere. \n",
    "\n",
    "- writing style: functional, flowery, candid, prosaic, ornate, poetic\n",
    "- tone: dramatic, humorous, sad, optimistic, formal, informal, assertive, aggressive\n",
    "- mood: angry, fearful, happy, sad\n",
    "- pacing : fast and slow paces"
   ]
  },
  {
   "cell_type": "markdown",
   "metadata": {},
   "source": [
    "##### **Content Examples**"
   ]
  },
  {
   "cell_type": "markdown",
   "metadata": {},
   "source": [
    "**Example #1: Content Creation**\n",
    "\n",
    "Compare the prompts: <ins>flowery</ins> vs <ins>functional</ins>"
   ]
  },
  {
   "cell_type": "code",
   "execution_count": null,
   "metadata": {},
   "outputs": [
    {
     "name": "stdout",
     "output_type": "stream",
     "text": [
      "As dawn gently whispers its arrival, the sky begins to blush in hues of soft pink and delicate lavender, a celestial canvas painted with the tender strokes of an artist's brush. The stars, one by one, retreat into the cosmic abyss, making way for the grand spectacle that is about to unfold. A single, radiant orb emerges, casting a golden glow that dances upon the horizon, its light growing ever stronger as it ascends. The world is bathed in a warm, ethereal radiance, as the sun's rays weave a tapestry of gold and amber across the heavens. The air is filled with the sweet symphony of birdsong, a melodious ode to the birth of a new day. It is a sight of breathtaking beauty, a moment of pure magic, a sunrise that stirs the soul and ignites the spirit.\n"
     ]
    }
   ],
   "source": [
    "message = [\n",
    "    {\n",
    "        \"role\": \"user\",\n",
    "        \"content\": \"Write a flowery passage about sunrise.\"\n",
    "    }\n",
    "]\n",
    "\n",
    "config = {**config_model, \"messages\": message}\n",
    "\n",
    "response = client.chat.completions.create(**config)\n",
    "print(response.choices[0].message.content)"
   ]
  },
  {
   "cell_type": "code",
   "execution_count": null,
   "metadata": {},
   "outputs": [
    {
     "name": "stdout",
     "output_type": "stream",
     "text": [
      "As the first rays of the sun began to peek over the horizon, a gentle warmth spread across the earth, signaling the start of a new day. The sky, once a deep indigo, was now painted with a vibrant palette of colors: soft pinks, fiery oranges, and rich purples. The sun, a fiery orb, slowly rose higher, casting a golden glow over the landscape. The world came alive as birds began to sing their morning songs, and the air was filled with the sweet scent of blooming flowers. The sunrise was a beautiful reminder of the endless cycle of life, a symbol of hope and renewal.\n"
     ]
    }
   ],
   "source": [
    "message = [\n",
    "    {\n",
    "        \"role\": \"user\",\n",
    "        \"content\": \"Write a functional passage about sunrise.\"\n",
    "    }\n",
    "]\n",
    "\n",
    "config = {**config_model, \"messages\": message}\n",
    "\n",
    "response = client.chat.completions.create(**config)\n",
    "print(response.choices[0].message.content)"
   ]
  },
  {
   "cell_type": "markdown",
   "metadata": {},
   "source": [
    "**Example #2: Business Email**"
   ]
  },
  {
   "cell_type": "code",
   "execution_count": null,
   "metadata": {},
   "outputs": [
    {
     "name": "stdout",
     "output_type": "stream",
     "text": [
      "Subject: Heartfelt Appreciation and Next Steps for Our Successful Project\n",
      "\n",
      "Dear Marketing Team,\n",
      "\n",
      "I hope this message finds you well. I am writing to express my deepest gratitude and admiration for the exceptional work each one of you has contributed to the successful completion of our recent project. Your dedication, creativity, and unwavering commitment have not gone unnoticed, and I am truly proud to lead such a talented and hardworking team.\n",
      "\n",
      "Throughout the project, we faced numerous challenges, but your resilience and collaborative spirit enabled us to overcome every obstacle. The innovative strategies you developed and implemented have significantly enhanced our brand's visibility and engagement, leading to remarkable results that exceeded our expectations. I want to take this opportunity to acknowledge and celebrate your individual and collective achievements:\n",
      "\n",
      "1. [Employee Name] - Your expertise in [specific area] was invaluable in [specific accomplishment].\n",
      "2. [Employee Name] - Your [specific skill or quality] played a crucial role in [specific accomplishment].\n",
      "3. [Employee Name] - Your [specific skill or quality] contributed significantly to [specific accomplishment].\n",
      "\n",
      "(Continue with individual acknowledgments as needed)\n",
      "\n",
      "As we move forward, I am excited to share the next steps in our marketing journey. We will be conducting a thorough analysis of the project's outcomes to identify key learnings and best practices. Additionally, we will begin preparations for our upcoming campaigns, which will build upon the success we have achieved together. I encourage you all to take some well-deserved time to rest and recharge before we embark on these new endeavors.\n",
      "\n",
      "Once again, thank you for your outstanding efforts and dedication. I am confident that, with your continued support and hard work, we will continue to achieve great success in the future. Please do not hesitate to reach out if you have any questions or concerns.\n",
      "\n",
      "Warm regards,\n",
      "\n",
      "[Your Name]\n",
      "Team Leader, Marketing Team\n"
     ]
    }
   ],
   "source": [
    "message = [\n",
    "    {\n",
    "        \"role\": \"user\",\n",
    "        \"content\": \"write a formal and well-structured buisness email to my employees. As the team leader of the marketing team, I want to send a thank-you email to my team members after the project's completion. In this email, I want to emphasize the team's efforts and achievements, and include a brief overview of the next steps.\"\n",
    "    }\n",
    "]\n",
    "\n",
    "config = {**config_model, \"messages\": message}\n",
    "\n",
    "response = client.chat.completions.create(**config)\n",
    "print(response.choices[0].message.content)"
   ]
  },
  {
   "cell_type": "markdown",
   "metadata": {},
   "source": [
    "---"
   ]
  },
  {
   "cell_type": "markdown",
   "metadata": {},
   "source": [
    "<a id=\"sec2\"></a>\n",
    "### **5.2 Maintaining Consistency in Response**"
   ]
  },
  {
   "cell_type": "markdown",
   "metadata": {},
   "source": [
    "**Constraints**\n",
    "\n",
    "- Define clear guidelines for expected **response formats**.\n",
    "\n",
    "- Use **consistent terminology** throughout prompts to avoid confusion.\n",
    "\n",
    "> Constraints are particularly effective in *zero-shot prompt engineering* techniques."
   ]
  },
  {
   "cell_type": "markdown",
   "metadata": {},
   "source": [
    "#### **1) Define Clear Guidelines for Expected Response Formats**\n",
    "\n",
    "- Specify the structure and components of the expected output.\n",
    "\n",
    "- **Examples of response formats:**\n",
    "\n",
    "    - **List format**: “Provide a list of five benefits of regular exercise.”\n",
    "\n",
    "    - **Paragraph Format**: “Explain the importance of renewable energy in a single paragraph.”\n",
    "\n",
    "    - **Dialogue Format**: “Write a conversation between two characters (Name A and Name B) discussing their weekend plans. Include three multi-turn exchanges.”"
   ]
  },
  {
   "cell_type": "markdown",
   "metadata": {},
   "source": [
    "##### **Content Examples**"
   ]
  },
  {
   "cell_type": "markdown",
   "metadata": {},
   "source": [
    "**Example #1: List Format**"
   ]
  },
  {
   "cell_type": "code",
   "execution_count": null,
   "metadata": {},
   "outputs": [
    {
     "name": "stdout",
     "output_type": "stream",
     "text": [
      "1. Improved cardiovascular health: Regular exercise strengthens the heart and improves circulation, reducing the risk of heart disease and stroke.\n",
      "2. Weight management: Physical activity helps burn calories, making it easier to maintain a healthy weight or lose excess pounds.\n",
      "3. Enhanced mood and mental health: Exercise releases endorphins, which can boost your mood and help alleviate symptoms of anxiety and depression.\n",
      "4. Increased energy levels: Regular physical activity can improve muscle strength and endurance, leading to increased energy throughout the day.\n",
      "5. Better sleep quality: Engaging in regular exercise can help you fall asleep faster and enjoy deeper, more restorative sleep.\n"
     ]
    }
   ],
   "source": [
    "message = [\n",
    "    {\n",
    "        \"role\": \"user\",\n",
    "        \"content\": \"Provide a list of five benefits of regular exercise.\"\n",
    "    }\n",
    "]\n",
    "\n",
    "config = {**config_model, \"messages\": message}\n",
    "\n",
    "response = client.chat.completions.create(**config)\n",
    "print(response.choices[0].message.content)"
   ]
  },
  {
   "cell_type": "markdown",
   "metadata": {},
   "source": [
    "**Example #2: Paragraph format**"
   ]
  },
  {
   "cell_type": "code",
   "execution_count": null,
   "metadata": {},
   "outputs": [
    {
     "name": "stdout",
     "output_type": "stream",
     "text": [
      "Renewable energy is of paramount importance as it offers a sustainable and environmentally friendly alternative to traditional fossil fuels, which are finite and contribute significantly to climate change through greenhouse gas emissions. By harnessing natural resources such as sunlight, wind, water, and geothermal heat, renewable energy sources can provide clean, abundant power, reducing our carbon footprint and mitigating global warming. Moreover, renewable energy technologies are becoming increasingly cost-competitive, creating new jobs and driving economic growth, while also enhancing energy security by diversifying energy supplies and reducing dependence on imported fuels.\n"
     ]
    }
   ],
   "source": [
    "message = [\n",
    "    {\n",
    "        \"role\": \"user\",\n",
    "        \"content\": \"Explain the importance of renewable energy in a single paragraph.\"\n",
    "    }\n",
    "]\n",
    "\n",
    "config = {**config_model, \"messages\": message}\n",
    "\n",
    "response = client.chat.completions.create(**config)\n",
    "print(response.choices[0].message.content)"
   ]
  },
  {
   "cell_type": "markdown",
   "metadata": {},
   "source": [
    "**Example #3: Dialogue format**"
   ]
  },
  {
   "cell_type": "code",
   "execution_count": null,
   "metadata": {},
   "outputs": [
    {
     "name": "stdout",
     "output_type": "stream",
     "text": [
      "Name A: Hey there! Have you made any plans for the weekend yet?\n",
      "\n",
      "Name B: Hi! Not yet, I was actually thinking about going hiking. What about you?\n",
      "\n",
      "Name A: Oh, hiking sounds fun! I was considering checking out that new art exhibit downtown. Maybe we could do both?\n",
      "\n",
      "Name B: That's a great idea! We could go hiking on Saturday and then hit the art exhibit on Sunday. Which trail were you thinking of for the hike?\n",
      "\n",
      "Name A: I was looking at the Bluebird Trail. It's supposed to have some amazing views. And for the art exhibit, it's called \"Colors of the World\" at the City Gallery.\n",
      "\n",
      "Name B: The Bluebird Trail sounds perfect, and the art exhibit theme is intriguing. Let's do it! I'll check the weather forecast for Saturday and we can finalize the details.\n"
     ]
    }
   ],
   "source": [
    "message = [\n",
    "    {\n",
    "        \"role\": \"user\",\n",
    "        \"content\": \"Write a conversation between two characters (Name A and Name B) discussing their weekend plans. Include three multi-turn exchanges.\"\n",
    "    }\n",
    "]\n",
    "\n",
    "config = {**config_model, \"messages\": message}\n",
    "\n",
    "response = client.chat.completions.create(**config)\n",
    "print(response.choices[0].message.content)"
   ]
  },
  {
   "cell_type": "markdown",
   "metadata": {},
   "source": [
    "#### **2) Use Consistent Terminology Throughout Prompts** "
   ]
  },
  {
   "cell_type": "markdown",
   "metadata": {},
   "source": [
    "- Select specific terms and phrases to use consistently in all related prompts. This minimizes confusion and helps the model understand the context better.\n",
    "\n",
    "    For example, if you choose \"user\" to refer to the person interacting with the model, use **\"user\" instead of switching to \"client\" or \"participant.”**"
   ]
  },
  {
   "cell_type": "markdown",
   "metadata": {},
   "source": [
    "#### **Practice Exercises**"
   ]
  },
  {
   "cell_type": "markdown",
   "metadata": {},
   "source": [
    "**Exercise #1 : Response Format**"
   ]
  },
  {
   "cell_type": "markdown",
   "metadata": {},
   "source": [
    "Read the following text and summarize it. Limit the length. Group similar concepts together and classify them by type."
   ]
  },
  {
   "cell_type": "markdown",
   "metadata": {},
   "source": [
    "- Text :\n",
    "> **Face Amount**\n",
    "> \n",
    "> The dollar amount to be paid to the beneficiary when the insured dies. It does not include other amounts that may be paid from insurance purchased with dividends or any policy riders.\n",
    "> \n",
    "> **Financial Guarantee Insurance**\n",
    "> \n",
    "> A surety bond, insurance policy or, when issued by an insurer, an indemnity contract and any guaranty similar to the foregoing types, under which loss is payable upon proof of occurrence of financial loss to an insured claimant, obligee, or indemnitee.\n",
    "> \n",
    "> **Fire Insurance**\n",
    "> \n",
    "> Coverage for loss of or damage to a building and/or contents due to fire.\n",
    "> \n",
    "> **Good Driver Discount**\n",
    "> \n",
    "> To be eligible for the Good Drivers Discount all operators of the insured vehicles must have been licensed for three or more year, have no more than a one (1) point charge on their driving record and has not been determined \"at fault\" in an accident resulting in bodily injury or death to any person.\n",
    "> \n",
    "> **Grace Period**\n",
    "> \n",
    "> A specified period immediately following the premium due date during which a payment can be made to continue a policy in force without interruption. This applies only to Life and Health policies. Check your policy to be sure that a grace period is offered and how many days, if any, are allowed.\n",
    "> \n",
    "> **Guaranteed Insurability**\n",
    "> \n",
    "> An option that permits the policy holder to buy additional stated amounts of life insurance at stated times in the future without evidence of insurability.\n",
    "> \n",
    "> **Health Insurance**\n",
    "> \n",
    "> A policy that will pay specifies sums for medical expenses or treatments. Health policies can offer many options and vary in their approaches to coverage.\n",
    "> \n",
    "> **Homeowner Insurance**\n",
    "> \n",
    "> An elective combination of coverages for the risks of owning a home. Can include losses due to fire, burglary, vandalism, earthquake, and other perils.\n",
    "> \n",
    "> **Incontestable Clause**\n",
    "> \n",
    "> A policy provision in which the company agrees not to contest the validity of the contract after it has been in force for a certain period of time, usually two years."
   ]
  },
  {
   "cell_type": "code",
   "execution_count": null,
   "metadata": {},
   "outputs": [],
   "source": [
    "message = [\n",
    "    {\n",
    "        \"role\": \"user\",\n",
    "        \"content\": \"<< Insert your prompt here >>\"\n",
    "    }\n",
    "]\n",
    "\n",
    "config = {**config_model, \"messages\": message}\n",
    "\n",
    "response = client.chat.completions.create(**config)\n",
    "print(response.choices[0].message.content)"
   ]
  },
  {
   "cell_type": "markdown",
   "metadata": {},
   "source": [
    "**$\\rightarrow$ Expected Output:**\n",
    "\n",
    "> 1. **Insurance Types**:\n",
    "> - **Financial Guarantee Insurance**: A contract that covers financial loss.\n",
    "> - **Fire Insurance**: Covers loss or damage due to fire.\n",
    "> - **Health Insurance**: Pays for medical expenses or treatments.\n",
    "> - **Homeowner Insurance**: Covers risks of owning a home, like fire, burglary, etc.\n",
    "> 2. **Policy Features**:\n",
    "> - **Face Amount**: The dollar amount paid to the beneficiary upon the insured's death.\n",
    "> - **Good Driver Discount**: Discount for drivers with clean records.\n",
    "> - **Grace Period**: Period after premium due date to continue a policy without interruption.\n",
    "> - **Guaranteed Insurability**: Option to buy additional insurance without evidence of insurability.\n",
    "> - **Incontestable Clause**: Provision preventing the company from contesting the contract's validity after a certain period."
   ]
  },
  {
   "cell_type": "markdown",
   "metadata": {},
   "source": [
    "**Exercise #2: Terminology Consistency**"
   ]
  },
  {
   "cell_type": "markdown",
   "metadata": {},
   "source": [
    "Explain the differences between a 'meme' and a 'viral video' in the context of social media marketing. Use 'content' to refer to both."
   ]
  },
  {
   "cell_type": "code",
   "execution_count": null,
   "metadata": {},
   "outputs": [],
   "source": [
    "message = [\n",
    "    {\n",
    "        \"role\": \"user\",\n",
    "        \"content\": \"<< Insert your prompt here >>\"\n",
    "    }\n",
    "]\n",
    "\n",
    "config = {**config_model, \"messages\": message}\n",
    "\n",
    "response = client.chat.completions.create(**config)\n",
    "print(response.choices[0].message.content)"
   ]
  },
  {
   "cell_type": "markdown",
   "metadata": {},
   "source": [
    "**$\\rightarrow$ Expected Output:**\n",
    "\n",
    "> A meme is a type of content that spreads humor or cultural ideas through images and text, while a viral video is a type of content that rapidly gains popularity and is shared widely across platforms. "
   ]
  },
  {
   "cell_type": "markdown",
   "metadata": {},
   "source": [
    "**Well Done!**\n",
    "\n",
    "Having completed all the exercises, you're now ready to proceed to the next chapter."
   ]
  }
 ],
 "metadata": {
  "kernelspec": {
   "display_name": "base",
   "language": "python",
   "name": "python3"
  },
  "language_info": {
   "codemirror_mode": {
    "name": "ipython",
    "version": 3
   },
   "file_extension": ".py",
   "mimetype": "text/x-python",
   "name": "python",
   "nbconvert_exporter": "python",
   "pygments_lexer": "ipython3",
   "version": "3.12.4"
  }
 },
 "nbformat": 4,
 "nbformat_minor": 2
}
