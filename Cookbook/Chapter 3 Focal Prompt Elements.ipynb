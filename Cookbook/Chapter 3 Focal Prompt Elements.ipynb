{
 "cells": [
  {
   "cell_type": "markdown",
   "metadata": {},
   "source": [
    "## **Chapter 3. Five Focal Prompt Elements and Types**"
   ]
  },
  {
   "cell_type": "markdown",
   "metadata": {},
   "source": [
    "In this chapter, we are going to look over the five focal elements of a well-constructed prompt and the different types of prompts that utilize these elements: `Instruction, Context, Example, Input Data, Output.`  \n",
    "\n",
    "These elements form the foundation of effective communication with a language model, ensuring the responses generated are aligned with your desired outcomes."
   ]
  },
  {
   "cell_type": "markdown",
   "metadata": {},
   "source": [
    "**Set up**"
   ]
  },
  {
   "cell_type": "code",
   "execution_count": 1,
   "metadata": {},
   "outputs": [],
   "source": [
    "from openai import OpenAI\n",
    "\n",
    "# Retrieve the UPSTAGE_API_KEY variable from the IPython store\n",
    "%store -r UPSTAGE_API_KEY\n",
    "\n",
    "client = OpenAI(\n",
    "    api_key= UPSTAGE_API_KEY,\n",
    "    base_url=\"https://api.upstage.ai/v1/solar\"\n",
    ")\n",
    "\n",
    "config_model = {\n",
    "    \"model\": \"solar-pro\",\n",
    "    \"max_tokens\": 500,\n",
    "    \"temperature\": 0.7,\n",
    "    \"top_p\": 0.9,\n",
    "}"
   ]
  },
  {
   "cell_type": "markdown",
   "metadata": {},
   "source": [
    "---"
   ]
  },
  {
   "cell_type": "markdown",
   "metadata": {},
   "source": [
    "### **Focal Elements**"
   ]
  },
  {
   "cell_type": "markdown",
   "metadata": {},
   "source": [
    "- **`Instruction`**\n",
    "    - The instruction is the core component of a prompt that directs the model on what task to perform. A good instruction should be explicit, concise, and goal-oriented.\n",
    "\n",
    "- **`Context`**\n",
    "    - Context provides background information or framing that helps the model generate a more relevant response. It could include past interactions, user-specific information, or task-related details.\n",
    "\n",
    "- **`Example`**\n",
    "    - Examples are useful ways for guiding the model's response style and format. Providing one or more examples can help the model understand what is expected in terms of tone, content, or output structure.\n",
    "\n",
    "- **`Input Data`**\n",
    "    - Input data refers to the specific content that the model should work on, whether it is a text passage, numerical data, or any other type of input. This element allows the model to generate a detailed response based on the provided content.\n",
    "    \n",
    "- **`Output`**\n",
    "    - The output element specifies what the response should look like, such as its structure, tone, or length. Clearly defining the desired output can help the model align its response to meet your expectations.\n",
    "\n",
    "    Combining these five focal elements in different ways creates various types of prompts. Below are four prompt **types A to D**: \n",
    "\n",
    "    - `Type A`: Instruction + Output\n",
    "\n",
    "    - `Type B`: Instruction + Context + Output\n",
    "\n",
    "    - `Type C`: Instruction + Context + Example + Output\n",
    "    \n",
    "    - `Type D`: Instruction + Input Data + Output"
   ]
  },
  {
   "cell_type": "markdown",
   "metadata": {},
   "source": [
    "**Benefits of Using These Types for Prompt Crafting** \n",
    "\n",
    "There are several benefits to using these types for prompt crafting:\n",
    "\n",
    "1. **Finding the Best Combination for Each Task**\n",
    "\n",
    "    - Every task requires a different type of prompt structure. By testing these types, you can find the best combination that works effectively for each task.\n",
    "\n",
    "2. **Ease of Testing Prompt Optimization**\n",
    "\n",
    "    - These types make it easier to test and optimize prompts, allowing you to refine and improve the model's responses efficiently."
   ]
  },
  {
   "cell_type": "markdown",
   "metadata": {},
   "source": [
    "#### **Content Examples**"
   ]
  },
  {
   "cell_type": "markdown",
   "metadata": {},
   "source": [
    "**Type A: Instruction + Output**"
   ]
  },
  {
   "cell_type": "code",
   "execution_count": 2,
   "metadata": {},
   "outputs": [],
   "source": [
    "# Instruction Only\n",
    "message = [\n",
    "    {\n",
    "        \"role\": \"user\",\n",
    "        \"content\": \"Write a short summary of the main events of the Industrial and Technological Revolution.\"\n",
    "    }\n",
    "]\n",
    "\n",
    "config = {**config_model, \"messages\": message}\n",
    "\n",
    "response = client.chat.completions.create(**config)"
   ]
  },
  {
   "cell_type": "code",
   "execution_count": 3,
   "metadata": {},
   "outputs": [
    {
     "name": "stdout",
     "output_type": "stream",
     "text": [
      "The Industrial Revolution, which began in the late 18th century, marked a significant shift from agrarian and handcraft economies to industrial and machine-manufactured production. Key events included the invention of the steam engine, the development of iron and textile industries, and the growth of factories and urbanization. The Technological Revolution, starting in the late 20th century, saw rapid advancements in computing, telecommunications, and biotechnology, leading to the digital age, global connectivity, and significant medical breakthroughs.\n"
     ]
    }
   ],
   "source": [
    "# Output\n",
    "print(response.choices[0].message.content)"
   ]
  },
  {
   "cell_type": "markdown",
   "metadata": {},
   "source": [
    "**Type B: Instruction + Context + Output**"
   ]
  },
  {
   "cell_type": "code",
   "execution_count": 4,
   "metadata": {},
   "outputs": [],
   "source": [
    "# Instruction + Context\n",
    "Instruction = \"Write a short summary of the main events of the Industrial and Technological Revolution\"\n",
    "Context = \" in a way that engages high school students, as if presented by a professional history teacher.\"\n",
    "\n",
    "message = [\n",
    "    {\n",
    "        \"role\": \"user\",\n",
    "        \"content\": Instruction + Context\n",
    "    }\n",
    "]\n",
    "\n",
    "config = {**config_model, \"messages\": message}\n",
    "\n",
    "response = client.chat.completions.create(**config)"
   ]
  },
  {
   "cell_type": "code",
   "execution_count": 5,
   "metadata": {},
   "outputs": [
    {
     "name": "stdout",
     "output_type": "stream",
     "text": [
      "Alright, class, let's dive into the thrilling world of the Industrial and Technological Revolutions! Picture this: it's the late 18th century, and the world is about to change forever. The Industrial Revolution kicks off in Britain, where innovative minds like James Watt and Richard Arkwright revolutionize manufacturing with steam engines and spinning machines. Factories sprout up, and people flock from rural areas to cities for work.\n",
      "\n",
      "Fast forward to the 19th century, and the Industrial Revolution spreads like wildfire across Europe and America. Railways connect distant places, telegraphs transmit messages in seconds, and the first skyscrapers reach for the sky. Life becomes faster, more efficient, and oh-so-connected!\n",
      "\n",
      "But wait, there's more! The 20th century brings the Technological Revolution, where computers, the internet, and smartphones transform our lives once again. Information is at our fingertips, and we can communicate with anyone, anywhere, anytime. It's a brave new world, and we're all part of this incredible journey. So, let's keep exploring and shaping the future together!\n"
     ]
    }
   ],
   "source": [
    "# Output\n",
    "print(response.choices[0].message.content)"
   ]
  },
  {
   "cell_type": "markdown",
   "metadata": {},
   "source": [
    "**Type C: Instruction + Context + Example + Output**"
   ]
  },
  {
   "cell_type": "code",
   "execution_count": 6,
   "metadata": {},
   "outputs": [],
   "source": [
    "# Instruction + Context + Example\n",
    "Instruction = \"Write a short summary of the main events of the Industrial and Technological Revolution\"\n",
    "Context = \" in a way that engages high school students, as if presented by a professional history teacher.\"\n",
    "Example = \" For example, imagine walking through a bustling 19th-century factory, where the sounds of machines hum like a symphony, and the air is filled with the excitement of innovation. In this era, the steam engine transformed transportation, factories replaced handcrafting, and groundbreaking inventions like the telegraph revolutionized communication. Put quotation marks “ ” when giving an example.\"\n",
    "\n",
    "message = [\n",
    "    {\n",
    "        \"role\": \"user\",\n",
    "        \"content\": Instruction + Context + Example\n",
    "    }\n",
    "]\n",
    "\n",
    "config = {**config_model, \"messages\": message}\n",
    "\n",
    "response = client.chat.completions.create(**config)"
   ]
  },
  {
   "cell_type": "code",
   "execution_count": 7,
   "metadata": {},
   "outputs": [
    {
     "name": "stdout",
     "output_type": "stream",
     "text": [
      "Imagine stepping into the heart of the Industrial and Technological Revolution, where the air buzzes with the electricity of change and the rhythm of progress. As a professional history teacher, I invite you to join me on a journey through this transformative era.\n",
      "\n",
      "In the late 18th century, the world witnessed the birth of the Industrial Revolution. Picture yourself in a bustling 19th-century factory, where the \"sounds of machines hum like a symphony,\" replacing the gentle clinking of artisans' tools. The steam engine, a marvel of engineering, became the driving force behind this revolution. It \"transformed transportation,\" powering locomotives that crisscrossed continents and ships that sailed oceans with unprecedented speed.\n",
      "\n",
      "Factories sprouted like mushrooms, replacing handcrafting with mass production. The \"excitement of innovation\" was palpable as inventors like James Watt and Richard Arkwright revolutionized industries with their groundbreaking machines. \"Imagine the awe-inspiring sight of a spinning jenny, weaving threads into fabric at a pace no human could match,\" I'd say, painting a vivid picture for my high school students.\n",
      "\n",
      "As the 19th century progressed, the Technological Revolution took hold. Communication, once limited by distance and time, was forever changed by the invention of the telegraph. \"Imagine sending a message across the country in mere minutes,\" I'd exclaim, \"a feat that once took weeks or even months!\" This innovation laid the groundwork for the interconnected world we live in today.\n",
      "\n",
      "Through the Industrial and Technological Revolutions, society was reshaped, economies grew, and the world became a smaller, more connected place. These eras of innovation and progress continue to inspire us, reminding us of the power of human ingenuity and the potential for even greater advancements in the future.\n"
     ]
    }
   ],
   "source": [
    "# Output\n",
    "print(response.choices[0].message.content)"
   ]
  },
  {
   "cell_type": "markdown",
   "metadata": {},
   "source": [
    "**Type D: Instruction + Input Data + Output**"
   ]
  },
  {
   "cell_type": "code",
   "execution_count": 8,
   "metadata": {},
   "outputs": [],
   "source": [
    "# Input Data: Second Industrial Revolution\n",
    "\n",
    "Input_Data = \"\"\"\n",
    "The Second Industrial Revolution, also known as the Technological Revolution, was a phase of rapid scientific discovery, standardisation, mass production and industrialisation from the late 19th century into the early 20th century. The First Industrial Revolution, which ended in the middle of the 19th century, was punctuated by a slowdown in important inventions before the Second Industrial Revolution in 1870. Though a number of its events can be traced to earlier innovations in manufacturing, such as the establishment of a machine tool industry, the development of methods for manufacturing interchangeable parts, as well as the invention of the Bessemer process and open hearth furnace to produce steel, later developments heralded the Second Industrial Revolution, which is generally dated between 1870 and 1914 (the beginning of World War I).\n",
    "\n",
    "Advancements in manufacturing and production technology enabled the widespread adoption of technological systems such as telegraph and railroad networks, gas and water supply, and sewage systems, which had earlier been limited to a few select cities. The enormous expansion of rail and telegraph lines after 1870 allowed unprecedented movement of people and ideas, which culminated in a new wave of globalization. In the same time period, new technological systems were introduced, most significantly electrical power and telephones. The Second Industrial Revolution continued into the 20th century with early factory electrification and the production line; it ended at the beginning of World War I.\n",
    "\n",
    "Starting in 1947, the Information Age is sometimes also called the Third Industrial Revolution.\n",
    "\n",
    "\"\"\"\n",
    "\n",
    "# Reference: Wikipedia(https://en.wikipedia.org/wiki/Second_Industrial_Revolution)"
   ]
  },
  {
   "cell_type": "code",
   "execution_count": 11,
   "metadata": {},
   "outputs": [],
   "source": [
    "# Instruction + Input Data\n",
    "Instruction = \"Write a short summary of the main events of the Industrial and Technological Revolution based on [Input Data] below:\\n\"\n",
    "\n",
    "message = [\n",
    "    {\n",
    "        \"role\": \"user\",\n",
    "        \"content\": Instruction + Input_Data\n",
    "    }\n",
    "]\n",
    "\n",
    "config = {**config_model, \"messages\": message}\n",
    "\n",
    "response = client.chat.completions.create(**config)"
   ]
  },
  {
   "cell_type": "code",
   "execution_count": 12,
   "metadata": {},
   "outputs": [
    {
     "name": "stdout",
     "output_type": "stream",
     "text": [
      "The Second Industrial Revolution, or Technological Revolution, spanned from the late 19th to early 20th century, marked by rapid scientific discovery, standardisation, mass production, and industrialisation. This period, dating from 1870 to 1914, saw advancements in manufacturing and production technology, leading to widespread adoption of systems like telegraph and railroad networks, gas and water supply, and sewage systems. The expansion of rail and telegraph lines facilitated globalization through increased movement of people and ideas. New technological systems, such as electrical power and telephones, were introduced during this time. The revolution continued into the 20th century with factory electrification and the production line, ending at the start of World War I.\n"
     ]
    }
   ],
   "source": [
    "# Output\n",
    "print(response.choices[0].message.content)"
   ]
  },
  {
   "cell_type": "markdown",
   "metadata": {},
   "source": [
    "---"
   ]
  },
  {
   "cell_type": "markdown",
   "metadata": {},
   "source": [
    "#### **Practice Exercises**"
   ]
  },
  {
   "cell_type": "markdown",
   "metadata": {},
   "source": [
    "- `Type A`: Instruction + Output\n",
    "\n",
    "- `Type B`: Instruction + Context + Output\n",
    "\n",
    "- `Type C`: Instruction + Context + Example + Output\n",
    "\n",
    "- `Type D`: Instruction + Input Data + Output"
   ]
  },
  {
   "cell_type": "markdown",
   "metadata": {},
   "source": [
    "**Type A**: \n",
    "\n",
    "Please write a prompt type A that converts the following word to lowercase. \n",
    "\n",
    "[APPLE, BANANA, CHERRY]"
   ]
  },
  {
   "cell_type": "code",
   "execution_count": null,
   "metadata": {},
   "outputs": [],
   "source": [
    "# Type A\n",
    "message = [\n",
    "    {\n",
    "        \"role\": \"user\",\n",
    "        \"content\": \"<<[ Replace this text ]>>\"\n",
    "    }\n",
    "]\n",
    "\n",
    "config = {**config_model, \"messages\": message}\n",
    "\n",
    "response = client.chat.completions.create(**config)\n",
    "print(response.choices[0].message.content)"
   ]
  },
  {
   "cell_type": "markdown",
   "metadata": {},
   "source": [
    "**Type B:** \n",
    "\n",
    "Please write a prompt type B that extracts the three key points from the following article and summarizes them in bullet points."
   ]
  },
  {
   "cell_type": "markdown",
   "metadata": {},
   "source": [
    "- Article: \n",
    "\n",
    "    > A federal jury ruled Friday that Masimo smartwatches infringed Apple patents, but Apple isn’t getting a big payday.\n",
    "    >\n",
    "    > [Bloomberg Law reports](https://news.bloomberglaw.com/ip-law/apple-wins-250-in-mixed-jury-verdict-over-smartwatch-patents) that the company was only seeking the statutory minimum of $250, and that’s all it was awarded. Apple’s attorney John Desmarais reportedly told jurors, “We’re not here for the money.” Instead, he said the company hoped to force Masimo to “stop copying our design.”\n",
    "    > \n",
    "    > The company may have been disappointed on that front. The jury did [find](https://www.documentcloud.org/documents/25253303-apple-v-masimo-verdict) that the original design for Masimo’s W1 Freedom and health module, as well as its original charger, infringed on Apple design patents, and that the infringement was willful.\n",
    "    > \n",
    "    > However, in a statement, Masimo noted that the findings only applied to “a discontinued module and charger,” not its current products.\n",
    "    > \n",
    "    > “Apple primarily sought an injunction against Masimo’s current products, and the jury’s verdict is a victory for Masimo on that issue,” the medical device company said.\n",
    "    > \n",
    "    > The trial resulted from Apple’s countersuit in its ongoing legal battle with Masimo, which started with the Masimo’s claim that its patents had been infringed by the Apple Watch’s pulse-oximetry feature, which allows Watch owners to measure their blood oxygen levels. Apple disabled the feature in the Apple Watch Series 9 and Ultra 2, and it’s also missing from [the new Series 10](https://techcrunch.com/2024/09/10/apple-watch-blood-oxygen-detection-wont-be-available-on-the-series-10-in-the-u-s/). These limitations only apply in the United States, with Apple is appealing an import ban on models with the contested feature.\n",
    "    > \n",
    "    > Desmerais reportedly told the jury that the pulse-oximetry feature “has nothing to do with this case.”\n",
    "\n",
    "source: https://techcrunch.com/2024/10/26/apple-wins-250-from-masimo-in-watch-patent-trial/"
   ]
  },
  {
   "cell_type": "code",
   "execution_count": null,
   "metadata": {},
   "outputs": [],
   "source": [
    "# Type B\n",
    "message = [\n",
    "    {\n",
    "        \"role\": \"user\",\n",
    "        \"content\": \"<<[ Replace this text ]>>\"\n",
    "    }\n",
    "]\n",
    "\n",
    "config = {**config_model, \"messages\": message}\n",
    "\n",
    "response = client.chat.completions.create(**config)\n",
    "print(response.choices[0].message.content)"
   ]
  },
  {
   "cell_type": "markdown",
   "metadata": {},
   "source": [
    "**Type C**:\n",
    "\n",
    "Please provide a type C prompt to define \"gate lice\" in a dictionary-like manner. Include an example for clarity."
   ]
  },
  {
   "cell_type": "code",
   "execution_count": null,
   "metadata": {},
   "outputs": [],
   "source": [
    "# Type C\n",
    "message = [\n",
    "    {\n",
    "        \"role\": \"user\",\n",
    "        \"content\": \"<<[ Replace this text ]>>\"\n",
    "    }\n",
    "]\n",
    "\n",
    "config = {**config_model, \"messages\": message}\n",
    "\n",
    "response = client.chat.completions.create(**config)\n",
    "print(response.choices[0].message.content)"
   ]
  },
  {
   "cell_type": "markdown",
   "metadata": {},
   "source": [
    "**Type D**:\n",
    "\n",
    "Create a type D prompt that provides a detailed explanation of Art Deco using the following input values."
   ]
  },
  {
   "cell_type": "code",
   "execution_count": 42,
   "metadata": {},
   "outputs": [],
   "source": [
    "Input_data = \"Tamara de Lempicka’s 'Young Woman in Green,' painted between 1927 and 1930, is a defining work of the Art Deco star whose art has attracted a resurgence of interest in recent decades. Bertrand Prévost/Centre Pompidou/Orange Logic/RMP/2024 Tamara de Lempicka Estate, LLC/ADAGP, Paris/ARS, NY Digital image/CNAC/MNAM, Dist. RMN-Grand Palais/Art Resource, NY\" "
   ]
  },
  {
   "cell_type": "code",
   "execution_count": null,
   "metadata": {},
   "outputs": [],
   "source": [
    "# Type D\n",
    "message = [\n",
    "    {\n",
    "        \"role\": \"user\",\n",
    "        \"content\": \"<<[ Replace this text ]>>\"\n",
    "    }\n",
    "]\n",
    "\n",
    "config = {**config_model, \"messages\": message}\n",
    "\n",
    "response = client.chat.completions.create(**config)\n",
    "print(response.choices[0].message.content)"
   ]
  },
  {
   "cell_type": "markdown",
   "metadata": {},
   "source": [
    "**Well Done!**\n",
    "\n",
    "Having completed all the exercises, you're now ready to proceed to the next chapter."
   ]
  },
  {
   "cell_type": "markdown",
   "metadata": {},
   "source": [
    "---"
   ]
  },
  {
   "cell_type": "code",
   "execution_count": null,
   "metadata": {},
   "outputs": [],
   "source": [
    "# Solution check\n",
    "from solution import exercise_3_1, exercise_3_2, exercise_3_3, excercise_3_4"
   ]
  },
  {
   "cell_type": "code",
   "execution_count": null,
   "metadata": {},
   "outputs": [],
   "source": [
    "# Type A\n",
    "print(exercise_3_1)"
   ]
  },
  {
   "cell_type": "code",
   "execution_count": null,
   "metadata": {},
   "outputs": [],
   "source": [
    "# Type B\n",
    "print(exercise_3_2)"
   ]
  },
  {
   "cell_type": "code",
   "execution_count": null,
   "metadata": {},
   "outputs": [],
   "source": [
    "# Type C\n",
    "print(exercise_3_3)"
   ]
  },
  {
   "cell_type": "code",
   "execution_count": null,
   "metadata": {},
   "outputs": [],
   "source": [
    "# Type D\n",
    "print(excercise_3_4)"
   ]
  }
 ],
 "metadata": {
  "kernelspec": {
   "display_name": "base",
   "language": "python",
   "name": "python3"
  },
  "language_info": {
   "codemirror_mode": {
    "name": "ipython",
    "version": 3
   },
   "file_extension": ".py",
   "mimetype": "text/x-python",
   "name": "python",
   "nbconvert_exporter": "python",
   "pygments_lexer": "ipython3",
   "version": "3.12.4"
  }
 },
 "nbformat": 4,
 "nbformat_minor": 2
}
